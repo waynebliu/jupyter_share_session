{
 "cells": [
  {
   "cell_type": "markdown",
   "metadata": {
    "ExecuteTime": {
     "end_time": "2017-10-03T01:31:19.624501Z",
     "start_time": "2017-10-03T01:31:19.613298Z"
    }
   },
   "source": [
    "# Generate README"
   ]
  },
  {
   "cell_type": "code",
   "execution_count": null,
   "metadata": {
    "ExecuteTime": {
     "end_time": "2017-11-06T18:43:27.034468Z",
     "start_time": "2017-11-06T18:43:26.889807Z"
    },
    "collapsed": true
   },
   "outputs": [],
   "source": [
    "!pwd"
   ]
  },
  {
   "cell_type": "code",
   "execution_count": null,
   "metadata": {
    "ExecuteTime": {
     "end_time": "2017-11-06T19:25:16.736515Z",
     "start_time": "2017-11-06T19:25:14.048427Z"
    },
    "collapsed": true
   },
   "outputs": [],
   "source": [
    "!jupyter nbconvert --output README.md --to markdown index.ipynb"
   ]
  },
  {
   "cell_type": "markdown",
   "metadata": {
    "ExecuteTime": {
     "end_time": "2017-10-02T23:26:18.372970Z",
     "start_time": "2017-10-02T23:26:18.357716Z"
    },
    "collapsed": true
   },
   "source": [
    "# Commit"
   ]
  },
  {
   "cell_type": "code",
   "execution_count": 156,
   "metadata": {
    "ExecuteTime": {
     "end_time": "2017-11-07T14:09:32.750420Z",
     "start_time": "2017-11-07T14:09:32.598390Z"
    }
   },
   "outputs": [
    {
     "name": "stdout",
     "output_type": "stream",
     "text": [
      "On branch master\r\n",
      "Your branch is ahead of 'origin/master' by 1 commit.\r\n",
      "  (use \"git push\" to publish your local commits)\r\n",
      "Changes not staged for commit:\r\n",
      "  (use \"git add <file>...\" to update what will be committed)\r\n",
      "  (use \"git checkout -- <file>...\" to discard changes in working directory)\r\n",
      "\r\n",
      "\t\u001b[31mmodified:   workflow.ipynb\u001b[m\r\n",
      "\r\n",
      "Untracked files:\r\n",
      "  (use \"git add <file>...\" to include in what will be committed)\r\n",
      "\r\n",
      "\t\u001b[31mjupyter_share_session-0.2.1/\u001b[m\r\n",
      "\t\u001b[31mjupyter_share_session/decorator.py\u001b[m\r\n",
      "\r\n",
      "no changes added to commit (use \"git add\" and/or \"git commit -a\")\r\n"
     ]
    }
   ],
   "source": [
    "!git status"
   ]
  },
  {
   "cell_type": "code",
   "execution_count": null,
   "metadata": {
    "ExecuteTime": {
     "end_time": "2017-11-07T00:48:59.909948Z",
     "start_time": "2017-11-07T00:48:58.655919Z"
    },
    "collapsed": true
   },
   "outputs": [],
   "source": [
    "!nbdiff -s"
   ]
  },
  {
   "cell_type": "code",
   "execution_count": null,
   "metadata": {
    "ExecuteTime": {
     "end_time": "2017-11-07T00:19:38.564611Z",
     "start_time": "2017-11-07T00:19:36.424975Z"
    },
    "collapsed": true,
    "scrolled": false
   },
   "outputs": [],
   "source": [
    "!git diff"
   ]
  },
  {
   "cell_type": "code",
   "execution_count": null,
   "metadata": {
    "ExecuteTime": {
     "end_time": "2017-11-06T19:27:06.652781Z",
     "start_time": "2017-11-06T19:27:06.512715Z"
    },
    "collapsed": true
   },
   "outputs": [],
   "source": [
    "!git add jupyter_share_session/magic.py"
   ]
  },
  {
   "cell_type": "code",
   "execution_count": null,
   "metadata": {
    "ExecuteTime": {
     "end_time": "2017-11-07T00:20:14.088413Z",
     "start_time": "2017-11-07T00:20:13.948557Z"
    },
    "collapsed": true
   },
   "outputs": [],
   "source": [
    "!git checkout jupyter_share_session/magic.py"
   ]
  },
  {
   "cell_type": "code",
   "execution_count": 154,
   "metadata": {
    "ExecuteTime": {
     "end_time": "2017-11-07T14:09:25.798728Z",
     "start_time": "2017-11-07T14:09:25.657657Z"
    },
    "collapsed": true
   },
   "outputs": [],
   "source": [
    "!git stage setup.py jupyter_share_session/magic.py"
   ]
  },
  {
   "cell_type": "code",
   "execution_count": 155,
   "metadata": {
    "ExecuteTime": {
     "end_time": "2017-11-07T14:09:26.258368Z",
     "start_time": "2017-11-07T14:09:26.111411Z"
    }
   },
   "outputs": [
    {
     "name": "stdout",
     "output_type": "stream",
     "text": [
      "[master ab995cc] update v0.2.6 - add nsname for exception\r\n",
      " 2 files changed, 75 insertions(+), 51 deletions(-)\r\n"
     ]
    }
   ],
   "source": [
    "!git commit -m \"update v0.2.6 - add nsname for exception\""
   ]
  },
  {
   "cell_type": "code",
   "execution_count": 73,
   "metadata": {
    "ExecuteTime": {
     "end_time": "2017-11-07T13:12:58.214144Z",
     "start_time": "2017-11-07T13:12:53.471949Z"
    }
   },
   "outputs": [
    {
     "name": "stdout",
     "output_type": "stream",
     "text": [
      "Username for 'https://github.com': ^C\n"
     ]
    }
   ],
   "source": [
    "!git push -u origin master"
   ]
  },
  {
   "cell_type": "markdown",
   "metadata": {},
   "source": [
    "# Release"
   ]
  },
  {
   "cell_type": "code",
   "execution_count": 157,
   "metadata": {
    "ExecuteTime": {
     "end_time": "2017-11-07T14:10:04.016275Z",
     "start_time": "2017-11-07T14:10:01.124943Z"
    },
    "scrolled": true
   },
   "outputs": [
    {
     "name": "stdout",
     "output_type": "stream",
     "text": [
      "running sdist\n",
      "running egg_info\n",
      "writing jupyter_share_session.egg-info/PKG-INFO\n",
      "writing dependency_links to jupyter_share_session.egg-info/dependency_links.txt\n",
      "writing top-level names to jupyter_share_session.egg-info/top_level.txt\n",
      "reading manifest file 'jupyter_share_session.egg-info/SOURCES.txt'\n",
      "reading manifest template 'MANIFEST.in'\n",
      "writing manifest file 'jupyter_share_session.egg-info/SOURCES.txt'\n",
      "warning: sdist: standard file not found: should have one of README, README.rst, README.txt\n",
      "\n",
      "running check\n",
      "creating jupyter_share_session-0.2.7\n",
      "creating jupyter_share_session-0.2.7/jupyter_share_session\n",
      "creating jupyter_share_session-0.2.7/jupyter_share_session.egg-info\n",
      "copying files to jupyter_share_session-0.2.7...\n",
      "copying MANIFEST.in -> jupyter_share_session-0.2.7\n",
      "copying README.md -> jupyter_share_session-0.2.7\n",
      "copying setup.py -> jupyter_share_session-0.2.7\n",
      "copying jupyter_share_session/__init__.py -> jupyter_share_session-0.2.7/jupyter_share_session\n",
      "copying jupyter_share_session/decorator.py -> jupyter_share_session-0.2.7/jupyter_share_session\n",
      "copying jupyter_share_session/magic.py -> jupyter_share_session-0.2.7/jupyter_share_session\n",
      "copying jupyter_share_session/sharesession.html -> jupyter_share_session-0.2.7/jupyter_share_session\n",
      "copying jupyter_share_session.egg-info/PKG-INFO -> jupyter_share_session-0.2.7/jupyter_share_session.egg-info\n",
      "copying jupyter_share_session.egg-info/SOURCES.txt -> jupyter_share_session-0.2.7/jupyter_share_session.egg-info\n",
      "copying jupyter_share_session.egg-info/dependency_links.txt -> jupyter_share_session-0.2.7/jupyter_share_session.egg-info\n",
      "copying jupyter_share_session.egg-info/not-zip-safe -> jupyter_share_session-0.2.7/jupyter_share_session.egg-info\n",
      "copying jupyter_share_session.egg-info/top_level.txt -> jupyter_share_session-0.2.7/jupyter_share_session.egg-info\n",
      "Writing jupyter_share_session-0.2.7/setup.cfg\n",
      "Creating tar archive\n",
      "removing 'jupyter_share_session-0.2.7' (and everything under it)\n",
      "running upload\n",
      "Submitting dist/jupyter_share_session-0.2.7.tar.gz to https://upload.pypi.org/legacy/\n",
      "Server response (200): OK\n"
     ]
    }
   ],
   "source": [
    "!python setup.py sdist upload"
   ]
  },
  {
   "cell_type": "markdown",
   "metadata": {},
   "source": [
    "# Testing"
   ]
  },
  {
   "cell_type": "code",
   "execution_count": null,
   "metadata": {
    "ExecuteTime": {
     "end_time": "2017-11-03T00:17:26.311920Z",
     "start_time": "2017-11-03T00:17:26.267133Z"
    },
    "collapsed": true
   },
   "outputs": [],
   "source": [
    "%%bash --bg\n",
    "python -m http.server & jupyter notebook\n",
    "wait"
   ]
  },
  {
   "cell_type": "code",
   "execution_count": null,
   "metadata": {
    "ExecuteTime": {
     "end_time": "2017-11-03T00:17:28.292537Z",
     "start_time": "2017-11-03T00:17:28.133708Z"
    },
    "collapsed": true
   },
   "outputs": [],
   "source": [
    "!ls"
   ]
  },
  {
   "cell_type": "markdown",
   "metadata": {},
   "source": [
    "http://localhost:8889/notebooks/index.ipynb=http://localhost:8888/api/contents/index.ipynb\n",
    "\n",
    "http://localhost:8889/notebooks/index.ipynb=http://localhost:8000/index.ipynb\n"
   ]
  },
  {
   "cell_type": "code",
   "execution_count": null,
   "metadata": {
    "ExecuteTime": {
     "end_time": "2017-11-03T00:18:08.310605Z",
     "start_time": "2017-11-03T00:18:08.091399Z"
    },
    "collapsed": true
   },
   "outputs": [],
   "source": [
    "%killbgscripts"
   ]
  },
  {
   "cell_type": "markdown",
   "metadata": {
    "ExecuteTime": {
     "end_time": "2017-10-19T21:15:06.544819Z",
     "start_time": "2017-10-19T21:15:06.527059Z"
    }
   },
   "source": [
    "# Install"
   ]
  },
  {
   "cell_type": "code",
   "execution_count": null,
   "metadata": {
    "ExecuteTime": {
     "end_time": "2017-10-19T21:20:30.204594Z",
     "start_time": "2017-10-19T21:20:28.618360Z"
    },
    "collapsed": true
   },
   "outputs": [],
   "source": [
    "!pip show jupyter_share_session"
   ]
  },
  {
   "cell_type": "code",
   "execution_count": null,
   "metadata": {
    "collapsed": true
   },
   "outputs": [],
   "source": [
    "!pip install -e ."
   ]
  },
  {
   "cell_type": "code",
   "execution_count": null,
   "metadata": {
    "ExecuteTime": {
     "end_time": "2017-10-27T23:23:59.753078Z",
     "start_time": "2017-10-27T23:23:59.609895Z"
    },
    "collapsed": true
   },
   "outputs": [],
   "source": [
    "?Exception"
   ]
  },
  {
   "cell_type": "code",
   "execution_count": null,
   "metadata": {
    "ExecuteTime": {
     "end_time": "2017-11-04T02:14:41.436953Z",
     "start_time": "2017-11-04T02:14:40.690015Z"
    },
    "collapsed": true
   },
   "outputs": [],
   "source": [
    "%load_ext jupyter_share_session"
   ]
  },
  {
   "cell_type": "code",
   "execution_count": null,
   "metadata": {
    "ExecuteTime": {
     "end_time": "2017-11-04T02:26:34.926267Z",
     "start_time": "2017-11-04T02:26:34.912997Z"
    },
    "collapsed": true
   },
   "outputs": [],
   "source": [
    "hello3=1"
   ]
  },
  {
   "cell_type": "code",
   "execution_count": null,
   "metadata": {
    "ExecuteTime": {
     "end_time": "2017-11-04T02:26:25.544538Z",
     "start_time": "2017-11-04T02:26:25.528060Z"
    },
    "collapsed": true
   },
   "outputs": [],
   "source": [
    "def test():\n",
    "    %globalvals hello3\n",
    "    print(hello3)"
   ]
  },
  {
   "cell_type": "code",
   "execution_count": null,
   "metadata": {
    "ExecuteTime": {
     "end_time": "2017-11-04T02:26:37.061216Z",
     "start_time": "2017-11-04T02:26:37.042296Z"
    },
    "collapsed": true
   },
   "outputs": [],
   "source": [
    "test()"
   ]
  },
  {
   "cell_type": "code",
   "execution_count": null,
   "metadata": {
    "collapsed": true
   },
   "outputs": [],
   "source": []
  }
 ],
 "metadata": {
  "kernelspec": {
   "display_name": "Python 3",
   "language": "python",
   "name": "python3"
  },
  "language_info": {
   "codemirror_mode": {
    "name": "ipython",
    "version": 3
   },
   "file_extension": ".py",
   "mimetype": "text/x-python",
   "name": "python",
   "nbconvert_exporter": "python",
   "pygments_lexer": "ipython3",
   "version": "3.6.2"
  },
  "toc": {
   "nav_menu": {
    "height": "195px",
    "width": "278px"
   },
   "number_sections": true,
   "sideBar": true,
   "skip_h1_title": false,
   "toc_cell": false,
   "toc_position": {},
   "toc_section_display": "block",
   "toc_window_display": false
  }
 },
 "nbformat": 4,
 "nbformat_minor": 2
}
