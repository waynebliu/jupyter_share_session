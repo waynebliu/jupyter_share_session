{
 "cells": [
  {
   "cell_type": "markdown",
   "metadata": {
    "ExecuteTime": {
     "end_time": "2017-10-03T01:31:19.624501Z",
     "start_time": "2017-10-03T01:31:19.613298Z"
    }
   },
   "source": [
    "# Generate README"
   ]
  },
  {
   "cell_type": "code",
   "execution_count": 6,
   "metadata": {
    "ExecuteTime": {
     "end_time": "2017-10-03T01:31:56.949401Z",
     "start_time": "2017-10-03T01:31:56.804290Z"
    }
   },
   "outputs": [
    {
     "name": "stdout",
     "output_type": "stream",
     "text": [
      "/home/wayne/jupyter_share_session\r\n"
     ]
    }
   ],
   "source": [
    "!pwd"
   ]
  },
  {
   "cell_type": "code",
   "execution_count": 11,
   "metadata": {
    "ExecuteTime": {
     "end_time": "2017-10-03T01:33:10.158967Z",
     "start_time": "2017-10-03T01:33:07.475519Z"
    }
   },
   "outputs": [
    {
     "name": "stdout",
     "output_type": "stream",
     "text": [
      "[NbConvertApp] Converting notebook index.ipynb to markdown\n",
      "[NbConvertApp] Writing 5779 bytes to README.md\n"
     ]
    }
   ],
   "source": [
    "!jupyter nbconvert --output README.md --to markdown index.ipynb"
   ]
  },
  {
   "cell_type": "markdown",
   "metadata": {
    "ExecuteTime": {
     "end_time": "2017-10-02T23:26:18.372970Z",
     "start_time": "2017-10-02T23:26:18.357716Z"
    },
    "collapsed": true
   },
   "source": [
    "# Commit"
   ]
  },
  {
   "cell_type": "code",
   "execution_count": 1,
   "metadata": {
    "ExecuteTime": {
     "end_time": "2017-10-19T21:19:27.292768Z",
     "start_time": "2017-10-19T21:19:20.041048Z"
    }
   },
   "outputs": [
    {
     "name": "stdout",
     "output_type": "stream",
     "text": [
      "[master 1d59c8b] fix window title for index.ipynb; update v0.2.1\n",
      " 2 files changed, 2 insertions(+), 2 deletions(-)\n",
      "Username for 'https://github.com': ^C\n"
     ]
    }
   ],
   "source": [
    "!git stage setup.py jupyter_share_session/__init__.py\n",
    "!git commit -m 'fix window title for index.ipynb; update v0.2.1'\n",
    "!git push -u origin master"
   ]
  },
  {
   "cell_type": "markdown",
   "metadata": {},
   "source": [
    "# Release"
   ]
  },
  {
   "cell_type": "code",
   "execution_count": 2,
   "metadata": {
    "ExecuteTime": {
     "end_time": "2017-10-19T21:20:18.908339Z",
     "start_time": "2017-10-19T21:20:15.949328Z"
    }
   },
   "outputs": [
    {
     "name": "stdout",
     "output_type": "stream",
     "text": [
      "running sdist\n",
      "running egg_info\n",
      "writing jupyter_share_session.egg-info/PKG-INFO\n",
      "writing dependency_links to jupyter_share_session.egg-info/dependency_links.txt\n",
      "writing top-level names to jupyter_share_session.egg-info/top_level.txt\n",
      "reading manifest file 'jupyter_share_session.egg-info/SOURCES.txt'\n",
      "reading manifest template 'MANIFEST.in'\n",
      "writing manifest file 'jupyter_share_session.egg-info/SOURCES.txt'\n",
      "warning: sdist: standard file not found: should have one of README, README.rst, README.txt\n",
      "\n",
      "running check\n",
      "creating jupyter_share_session-0.2.1\n",
      "creating jupyter_share_session-0.2.1/jupyter_share_session\n",
      "creating jupyter_share_session-0.2.1/jupyter_share_session.egg-info\n",
      "copying files to jupyter_share_session-0.2.1...\n",
      "copying MANIFEST.in -> jupyter_share_session-0.2.1\n",
      "copying README.md -> jupyter_share_session-0.2.1\n",
      "copying setup.py -> jupyter_share_session-0.2.1\n",
      "copying jupyter_share_session/__init__.py -> jupyter_share_session-0.2.1/jupyter_share_session\n",
      "copying jupyter_share_session/sharesession.html -> jupyter_share_session-0.2.1/jupyter_share_session\n",
      "copying jupyter_share_session.egg-info/PKG-INFO -> jupyter_share_session-0.2.1/jupyter_share_session.egg-info\n",
      "copying jupyter_share_session.egg-info/SOURCES.txt -> jupyter_share_session-0.2.1/jupyter_share_session.egg-info\n",
      "copying jupyter_share_session.egg-info/dependency_links.txt -> jupyter_share_session-0.2.1/jupyter_share_session.egg-info\n",
      "copying jupyter_share_session.egg-info/not-zip-safe -> jupyter_share_session-0.2.1/jupyter_share_session.egg-info\n",
      "copying jupyter_share_session.egg-info/top_level.txt -> jupyter_share_session-0.2.1/jupyter_share_session.egg-info\n",
      "Writing jupyter_share_session-0.2.1/setup.cfg\n",
      "Creating tar archive\n",
      "removing 'jupyter_share_session-0.2.1' (and everything under it)\n",
      "running upload\n",
      "Submitting dist/jupyter_share_session-0.2.1.tar.gz to https://upload.pypi.org/legacy/\n",
      "Server response (200): OK\n"
     ]
    }
   ],
   "source": [
    "!python setup.py sdist upload"
   ]
  },
  {
   "cell_type": "markdown",
   "metadata": {},
   "source": [
    "# Testing"
   ]
  },
  {
   "cell_type": "code",
   "execution_count": 1,
   "metadata": {
    "ExecuteTime": {
     "end_time": "2017-10-05T21:33:44.959652Z",
     "start_time": "2017-10-05T21:33:44.892204Z"
    }
   },
   "outputs": [
    {
     "name": "stdout",
     "output_type": "stream",
     "text": [
      "Starting job # 0 in a separate thread.\n"
     ]
    }
   ],
   "source": [
    "%%bash --bg\n",
    "python -m http.server & jupyter notebook\n",
    "wait"
   ]
  },
  {
   "cell_type": "code",
   "execution_count": 3,
   "metadata": {
    "ExecuteTime": {
     "end_time": "2017-10-05T21:34:27.965376Z",
     "start_time": "2017-10-05T21:34:27.811595Z"
    }
   },
   "outputs": [
    {
     "name": "stdout",
     "output_type": "stream",
     "text": [
      "CONTRIBUTING.md  jupyter_share_session\t\t myworkflow  workflow.ipynb\r\n",
      "dist\t\t jupyter_share_session.egg-info  README.md\r\n",
      "index.ipynb\t MANIFEST.in\t\t\t setup.py\r\n"
     ]
    }
   ],
   "source": [
    "!ls"
   ]
  },
  {
   "cell_type": "markdown",
   "metadata": {},
   "source": [
    "http://localhost:8889/notebooks/myworkflow/index.ipynb=http://localhost:8888/api/contents/myworkflow/index.ipynb\n",
    "\n",
    "http://localhost:8889/notebooks/myworkflow/index.ipynb=http://localhost:8000/index.ipynb\n",
    "\n",
    "http://localhost:8889/notebooks/myworkflow/index.ipynb=http://localhost:8000/workflow.ipynb\n"
   ]
  },
  {
   "cell_type": "code",
   "execution_count": 4,
   "metadata": {
    "ExecuteTime": {
     "end_time": "2017-10-05T21:37:19.326959Z",
     "start_time": "2017-10-05T21:37:19.218569Z"
    }
   },
   "outputs": [
    {
     "name": "stdout",
     "output_type": "stream",
     "text": [
      "All background processes were killed.\n"
     ]
    }
   ],
   "source": [
    "%killbgscripts"
   ]
  },
  {
   "cell_type": "markdown",
   "metadata": {
    "ExecuteTime": {
     "end_time": "2017-10-19T21:15:06.544819Z",
     "start_time": "2017-10-19T21:15:06.527059Z"
    }
   },
   "source": [
    "# Install"
   ]
  },
  {
   "cell_type": "code",
   "execution_count": 3,
   "metadata": {
    "ExecuteTime": {
     "end_time": "2017-10-19T21:20:30.204594Z",
     "start_time": "2017-10-19T21:20:28.618360Z"
    }
   },
   "outputs": [
    {
     "name": "stdout",
     "output_type": "stream",
     "text": [
      "Name: jupyter-share-session\r\n",
      "Version: 0.2.1\r\n",
      "Summary: Split a notebook into multiple files.\r\n",
      "Home-page: http://github.com/waynebliu/jupyter_share_session/\r\n",
      "Author: Wayne Liu\r\n",
      "Author-email: waynebliu@yahoo.com\r\n",
      "License: MIT\r\n",
      "Location: /home/wayne/jupyter_share_session\r\n",
      "Requires: \r\n"
     ]
    }
   ],
   "source": [
    "!pip show jupyter_share_session"
   ]
  },
  {
   "cell_type": "code",
   "execution_count": null,
   "metadata": {
    "collapsed": true
   },
   "outputs": [],
   "source": [
    "!pip install -e .~~"
   ]
  }
 ],
 "metadata": {
  "kernelspec": {
   "display_name": "Python 3",
   "language": "python",
   "name": "python3"
  },
  "language_info": {
   "codemirror_mode": {
    "name": "ipython",
    "version": 3
   },
   "file_extension": ".py",
   "mimetype": "text/x-python",
   "name": "python",
   "nbconvert_exporter": "python",
   "pygments_lexer": "ipython3",
   "version": "3.6.2"
  }
 },
 "nbformat": 4,
 "nbformat_minor": 2
}
