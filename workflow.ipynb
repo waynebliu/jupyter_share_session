{
 "cells": [
  {
   "cell_type": "markdown",
   "metadata": {
    "ExecuteTime": {
     "end_time": "2017-10-03T01:31:19.624501Z",
     "start_time": "2017-10-03T01:31:19.613298Z"
    }
   },
   "source": [
    "# Generate README"
   ]
  },
  {
   "cell_type": "code",
   "execution_count": null,
   "metadata": {
    "ExecuteTime": {
     "end_time": "2017-11-06T18:43:27.034468Z",
     "start_time": "2017-11-06T18:43:26.889807Z"
    }
   },
   "outputs": [],
   "source": [
    "!pwd"
   ]
  },
  {
   "cell_type": "code",
   "execution_count": null,
   "metadata": {
    "ExecuteTime": {
     "end_time": "2017-11-06T19:25:16.736515Z",
     "start_time": "2017-11-06T19:25:14.048427Z"
    }
   },
   "outputs": [],
   "source": [
    "!jupyter nbconvert --output README.md --to markdown index.ipynb"
   ]
  },
  {
   "cell_type": "markdown",
   "metadata": {
    "ExecuteTime": {
     "end_time": "2017-10-02T23:26:18.372970Z",
     "start_time": "2017-10-02T23:26:18.357716Z"
    },
    "collapsed": true
   },
   "source": [
    "# Commit"
   ]
  },
  {
   "cell_type": "code",
   "execution_count": null,
   "metadata": {
    "ExecuteTime": {
     "end_time": "2017-11-07T00:48:51.779978Z",
     "start_time": "2017-11-07T00:48:51.631068Z"
    }
   },
   "outputs": [],
   "source": [
    "!git status"
   ]
  },
  {
   "cell_type": "code",
   "execution_count": null,
   "metadata": {
    "ExecuteTime": {
     "end_time": "2017-11-07T00:48:59.909948Z",
     "start_time": "2017-11-07T00:48:58.655919Z"
    }
   },
   "outputs": [],
   "source": [
    "!nbdiff -s"
   ]
  },
  {
   "cell_type": "code",
   "execution_count": null,
   "metadata": {
    "ExecuteTime": {
     "end_time": "2017-11-07T00:19:38.564611Z",
     "start_time": "2017-11-07T00:19:36.424975Z"
    },
    "scrolled": false
   },
   "outputs": [],
   "source": [
    "!git diff"
   ]
  },
  {
   "cell_type": "code",
   "execution_count": null,
   "metadata": {
    "ExecuteTime": {
     "end_time": "2017-11-06T19:27:06.652781Z",
     "start_time": "2017-11-06T19:27:06.512715Z"
    },
    "collapsed": true
   },
   "outputs": [],
   "source": [
    "!git add jupyter_share_session/magic.py"
   ]
  },
  {
   "cell_type": "code",
   "execution_count": null,
   "metadata": {
    "ExecuteTime": {
     "end_time": "2017-11-07T00:20:14.088413Z",
     "start_time": "2017-11-07T00:20:13.948557Z"
    },
    "collapsed": true
   },
   "outputs": [],
   "source": [
    "!git checkout jupyter_share_session/magic.py"
   ]
  },
  {
   "cell_type": "code",
   "execution_count": null,
   "metadata": {
    "ExecuteTime": {
     "end_time": "2017-11-07T00:20:55.581845Z",
     "start_time": "2017-11-07T00:20:55.428304Z"
    },
    "collapsed": true
   },
   "outputs": [],
   "source": [
    "!git stage Magic.ipynb setup.py workflow.ipynb"
   ]
  },
  {
   "cell_type": "code",
   "execution_count": null,
   "metadata": {
    "ExecuteTime": {
     "end_time": "2017-11-07T00:21:31.460278Z",
     "start_time": "2017-11-07T00:21:22.631945Z"
    }
   },
   "outputs": [],
   "source": [
    "!git commit -m 'update v0.2.3 - add defaultNsParm decorator as modifying locals doesn't work\n",
    "!git push -u origin master"
   ]
  },
  {
   "cell_type": "markdown",
   "metadata": {},
   "source": [
    "# Release"
   ]
  },
  {
   "cell_type": "code",
   "execution_count": null,
   "metadata": {
    "ExecuteTime": {
     "end_time": "2017-11-07T00:21:54.352966Z",
     "start_time": "2017-11-07T00:21:50.092502Z"
    }
   },
   "outputs": [],
   "source": [
    "!python setup.py sdist upload"
   ]
  },
  {
   "cell_type": "markdown",
   "metadata": {},
   "source": [
    "# Testing"
   ]
  },
  {
   "cell_type": "code",
   "execution_count": null,
   "metadata": {
    "ExecuteTime": {
     "end_time": "2017-11-03T00:17:26.311920Z",
     "start_time": "2017-11-03T00:17:26.267133Z"
    }
   },
   "outputs": [],
   "source": [
    "%%bash --bg\n",
    "python -m http.server & jupyter notebook\n",
    "wait"
   ]
  },
  {
   "cell_type": "code",
   "execution_count": null,
   "metadata": {
    "ExecuteTime": {
     "end_time": "2017-11-03T00:17:28.292537Z",
     "start_time": "2017-11-03T00:17:28.133708Z"
    }
   },
   "outputs": [],
   "source": [
    "!ls"
   ]
  },
  {
   "cell_type": "markdown",
   "metadata": {},
   "source": [
    "http://localhost:8889/notebooks/index.ipynb=http://localhost:8888/api/contents/index.ipynb\n",
    "\n",
    "http://localhost:8889/notebooks/index.ipynb=http://localhost:8000/index.ipynb\n"
   ]
  },
  {
   "cell_type": "code",
   "execution_count": null,
   "metadata": {
    "ExecuteTime": {
     "end_time": "2017-11-03T00:18:08.310605Z",
     "start_time": "2017-11-03T00:18:08.091399Z"
    }
   },
   "outputs": [],
   "source": [
    "%killbgscripts"
   ]
  },
  {
   "cell_type": "markdown",
   "metadata": {
    "ExecuteTime": {
     "end_time": "2017-10-19T21:15:06.544819Z",
     "start_time": "2017-10-19T21:15:06.527059Z"
    }
   },
   "source": [
    "# Install"
   ]
  },
  {
   "cell_type": "code",
   "execution_count": null,
   "metadata": {
    "ExecuteTime": {
     "end_time": "2017-10-19T21:20:30.204594Z",
     "start_time": "2017-10-19T21:20:28.618360Z"
    }
   },
   "outputs": [],
   "source": [
    "!pip show jupyter_share_session"
   ]
  },
  {
   "cell_type": "code",
   "execution_count": null,
   "metadata": {
    "collapsed": true
   },
   "outputs": [],
   "source": [
    "!pip install -e ."
   ]
  },
  {
   "cell_type": "code",
   "execution_count": null,
   "metadata": {
    "ExecuteTime": {
     "end_time": "2017-10-27T23:23:59.753078Z",
     "start_time": "2017-10-27T23:23:59.609895Z"
    },
    "collapsed": true
   },
   "outputs": [],
   "source": [
    "?Exception"
   ]
  },
  {
   "cell_type": "code",
   "execution_count": null,
   "metadata": {
    "ExecuteTime": {
     "end_time": "2017-11-04T02:14:41.436953Z",
     "start_time": "2017-11-04T02:14:40.690015Z"
    },
    "collapsed": true
   },
   "outputs": [],
   "source": [
    "%load_ext jupyter_share_session"
   ]
  },
  {
   "cell_type": "code",
   "execution_count": null,
   "metadata": {
    "ExecuteTime": {
     "end_time": "2017-11-04T02:26:34.926267Z",
     "start_time": "2017-11-04T02:26:34.912997Z"
    },
    "collapsed": true
   },
   "outputs": [],
   "source": [
    "hello3=1"
   ]
  },
  {
   "cell_type": "code",
   "execution_count": null,
   "metadata": {
    "ExecuteTime": {
     "end_time": "2017-11-04T02:26:25.544538Z",
     "start_time": "2017-11-04T02:26:25.528060Z"
    },
    "collapsed": true
   },
   "outputs": [],
   "source": [
    "def test():\n",
    "    %globalvals hello3\n",
    "    print(hello3)"
   ]
  },
  {
   "cell_type": "code",
   "execution_count": null,
   "metadata": {
    "ExecuteTime": {
     "end_time": "2017-11-04T02:26:37.061216Z",
     "start_time": "2017-11-04T02:26:37.042296Z"
    }
   },
   "outputs": [],
   "source": [
    "test()"
   ]
  },
  {
   "cell_type": "code",
   "execution_count": null,
   "metadata": {
    "collapsed": true
   },
   "outputs": [],
   "source": []
  }
 ],
 "metadata": {
  "kernelspec": {
   "display_name": "Python 3",
   "language": "python",
   "name": "python3"
  },
  "language_info": {
   "codemirror_mode": {
    "name": "ipython",
    "version": 3
   },
   "file_extension": ".py",
   "mimetype": "text/x-python",
   "name": "python",
   "nbconvert_exporter": "python",
   "pygments_lexer": "ipython3",
   "version": "3.6.2"
  },
  "toc": {
   "colors": {
    "hover_highlight": "#DAA520",
    "navigate_num": "#000000",
    "navigate_text": "#333333",
    "running_highlight": "#FF0000",
    "selected_highlight": "#FFD700",
    "sidebar_border": "#EEEEEE",
    "wrapper_background": "#FFFFFF"
   },
   "moveMenuLeft": true,
   "nav_menu": {
    "height": "195px",
    "width": "278px"
   },
   "navigate_menu": true,
   "number_sections": true,
   "sideBar": true,
   "skip_h1_title": false,
   "threshold": 4,
   "toc_cell": false,
   "toc_section_display": "block",
   "toc_window_display": false,
   "widenNotebook": false
  }
 },
 "nbformat": 4,
 "nbformat_minor": 2
}
