{
 "cells": [
  {
   "cell_type": "markdown",
   "metadata": {
    "ExecuteTime": {
     "end_time": "2017-10-03T01:31:19.624501Z",
     "start_time": "2017-10-03T01:31:19.613298Z"
    }
   },
   "source": [
    "# Generate README"
   ]
  },
  {
   "cell_type": "code",
   "execution_count": 27,
   "metadata": {
    "ExecuteTime": {
     "end_time": "2017-11-06T18:43:27.034468Z",
     "start_time": "2017-11-06T18:43:26.889807Z"
    }
   },
   "outputs": [
    {
     "name": "stdout",
     "output_type": "stream",
     "text": [
      "/home/wayne/jupyter_share_session\r\n"
     ]
    }
   ],
   "source": [
    "!pwd"
   ]
  },
  {
   "cell_type": "code",
   "execution_count": 29,
   "metadata": {
    "ExecuteTime": {
     "end_time": "2017-11-06T19:25:16.736515Z",
     "start_time": "2017-11-06T19:25:14.048427Z"
    }
   },
   "outputs": [
    {
     "name": "stdout",
     "output_type": "stream",
     "text": [
      "[NbConvertApp] Converting notebook index.ipynb to markdown\n",
      "[NbConvertApp] Writing 2922 bytes to README.md\n"
     ]
    }
   ],
   "source": [
    "!jupyter nbconvert --output README.md --to markdown index.ipynb"
   ]
  },
  {
   "cell_type": "markdown",
   "metadata": {
    "ExecuteTime": {
     "end_time": "2017-10-02T23:26:18.372970Z",
     "start_time": "2017-10-02T23:26:18.357716Z"
    },
    "collapsed": true
   },
   "source": [
    "# Commit"
   ]
  },
  {
   "cell_type": "code",
   "execution_count": 26,
   "metadata": {
    "ExecuteTime": {
     "end_time": "2017-11-06T18:43:15.560024Z",
     "start_time": "2017-11-06T18:43:15.415084Z"
    }
   },
   "outputs": [
    {
     "name": "stdout",
     "output_type": "stream",
     "text": [
      "On branch master\r\n",
      "Your branch is up-to-date with 'origin/master'.\r\n",
      "Changes not staged for commit:\r\n",
      "  (use \"git add <file>...\" to update what will be committed)\r\n",
      "  (use \"git checkout -- <file>...\" to discard changes in working directory)\r\n",
      "\r\n",
      "\t\u001b[31mmodified:   README.md\u001b[m\r\n",
      "\t\u001b[31mmodified:   index.ipynb\u001b[m\r\n",
      "\t\u001b[31mmodified:   setup.py\u001b[m\r\n",
      "\t\u001b[31mmodified:   workflow.ipynb\u001b[m\r\n",
      "\r\n",
      "Untracked files:\r\n",
      "  (use \"git add <file>...\" to include in what will be committed)\r\n",
      "\r\n",
      "\t\u001b[31mjupyter_share_session-0.2.1/\u001b[m\r\n",
      "\t\u001b[31mjupyter_share_session/magic.py\u001b[m\r\n",
      "\r\n",
      "no changes added to commit (use \"git add\" and/or \"git commit -a\")\r\n"
     ]
    }
   ],
   "source": [
    "!git status"
   ]
  },
  {
   "cell_type": "code",
   "execution_count": null,
   "metadata": {
    "ExecuteTime": {
     "end_time": "2017-11-06T18:42:12.335493Z",
     "start_time": "2017-11-06T18:42:10.473989Z"
    }
   },
   "outputs": [],
   "source": [
    "!nbdiff -s"
   ]
  },
  {
   "cell_type": "code",
   "execution_count": 30,
   "metadata": {
    "ExecuteTime": {
     "end_time": "2017-11-06T19:25:23.963762Z",
     "start_time": "2017-11-06T19:25:21.597164Z"
    }
   },
   "outputs": [
    {
     "name": "stdout",
     "output_type": "stream",
     "text": [
      "\u001b[1mdiff --git a/README.md b/README.md\u001b[m\n",
      "\u001b[1mindex 25abbed..36a1bfa 100644\u001b[m\n",
      "\u001b[1m--- a/README.md\u001b[m\n",
      "\u001b[1m+++ b/README.md\u001b[m\n",
      "\u001b[36m@@ -1,16 +1,19 @@\u001b[m\n",
      " \u001b[m\n",
      " # Use cases\u001b[m\n",
      " \u001b[m\n",
      "\u001b[31m-1. You want to split up your notebook into multiple files. Simply create a file \"index.ipynb\" in the directory where the files will be.\u001b[m\n",
      "\u001b[32m+\u001b[m\u001b[32m1. You want to split up your notebook into multiple files.\u001b[m\u001b[41m \u001b[m\n",
      "\u001b[32m+\u001b[m\u001b[32m    - Simply create a file \"index.ipynb\" in the directory where the files will be.\u001b[m\n",
      "     - When you open a file in this directory, it will share the same session (same running kernel) as all the others\u001b[m\n",
      "\u001b[31m-    - If the url path of the file you open is originally\u001b[m\n",
      "\u001b[31m-        \u001b[m\n",
      "\u001b[32m+\u001b[m\u001b[32m    - Note if the url path of the file you open is originally\u001b[m\n",
      "\u001b[32m+\u001b[m\n",
      "             http://<hostname>:<port>/notebooks/<projectpath>/<file>.ipynb\u001b[m\n",
      "\u001b[31m-      then it will be changed to \u001b[m\n",
      "\u001b[32m+\u001b[m\u001b[32m      then brower address bar will be changed to\u001b[m\u001b[41m \u001b[m\n",
      " \u001b[m\n",
      "             http://<hostname>:<port>/notebooks/<projectpath>/index.ipynb=<projectpath>/<file>.ipynb\u001b[m\n",
      "\u001b[32m+\u001b[m\u001b[32m      and the browser window will title change to \"`<projectdir>:<file>`\"\u001b[m\n",
      " \u001b[m\n",
      "\u001b[31m-2. You have some common files that you want to share among multiple projects (i.e. in multiple notebook directories).  You can open the common file using url path:\u001b[m\n",
      "\u001b[32m+\u001b[m\u001b[32m2. You have some common files that you want to share among multiple projects (i.e. in multiple notebook directories).\u001b[m\n",
      "\u001b[32m+\u001b[m\u001b[32m    - You can open the common file using url path:\u001b[m\n",
      " \u001b[m\n",
      "             <projectpath>/index.ipynb=<commonutilpath>/<utilfile>.ipynb\u001b[m\n",
      "     - The utilfile.ipynb page will run in the same kernel.\u001b[m\n",
      "\u001b[36m@@ -62,9 +65,9 @@\u001b[m \u001b[mTBD\u001b[m\n",
      " \u001b[m\n",
      " # Issues\u001b[m\n",
      " \u001b[m\n",
      "\u001b[31m-1. Downloading urls may not be working completely.\u001b[m\n",
      "\u001b[31m-- The implementation is necessarily fragile and dependent on implementation details of Jupyter notebook.\u001b[m\n",
      "\u001b[32m+\u001b[m\u001b[32m1. The implementation is necessarily fragile and dependent on implementation details of Jupyter notebook.\u001b[m\n",
      "     - It would be better if this behavior was included in JupyterLab directly, or there would be cleaner hooks to implement this as an extension.\u001b[m\n",
      " - Integration with mybinder.org\u001b[m\n",
      " - Conda installation?\u001b[m\n",
      " - Integration with jupyter_contrib_extensions?\u001b[m\n",
      "\u001b[32m+\u001b[m\u001b[32m- Integration with jupyter_cms?\u001b[m\n",
      "nbdiff /tmp/Z2ypaT_index.ipynb index.ipynb\n",
      "--- /tmp/Z2ypaT_index.ipynb  2017-11-06 14:25:21.638116\n",
      "+++ index.ipynb  2017-11-06 13:39:54.840608\n",
      "\u001b[34m## modified /cells/1/source:\u001b[0m\n",
      "\u001b[36m@@ -1,13 +1,16 @@\u001b[m\n",
      "1. You want to split up your notebook into multiple files. \n",
      "    \u001b[32m-\u001b[m Simply create a file \"index.ipynb\" in the directory where the files will be.\n",
      "    - When you open a file in this directory, it will share the same session (same running kernel) as all the others\u001b[m\n",
      "    - \u001b[31mIf\u001b[m\u001b[32mNote if\u001b[m the url path of the file you open is originally\n",
      "\n",
      "            http://<hostname>:<port>/notebooks/<projectpath>/<file>.ipynb\u001b[m\n",
      "      then \u001b[31mit\u001b[m\u001b[32mbrower address bar\u001b[m will be changed to \n",
      "\n",
      "            http://<hostname>:<port>/notebooks/<projectpath>/index.ipynb=<projectpath>/<file>.ipynb\u001b[m\n",
      "      \u001b[32mand the browser window will title change to \"`<projectdir>:<file>`\"\u001b[m\n",
      "\n",
      "2. You have some common files that you want to share among multiple projects (i.e. in multiple notebook directories).\n",
      "    \u001b[32m-\u001b[m You can open the common file using url path:\n",
      "\n",
      "            <projectpath>/index.ipynb=<commonutilpath>/<utilfile>.ipynb\u001b[m\n",
      "    - The utilfile.ipynb page will run in the same kernel.\u001b[m\n",
      "\n",
      "\u001b[0m\u001b[34m## modified /cells/11/source:\u001b[0m\n",
      "\u001b[36m@@ -1,6 +1,6 @@\u001b[m\n",
      "1.\u001b[31mDownloading urls may not be working completely.\u001b[m\n",
      "\u001b[31m-\u001b[m The implementation is necessarily fragile and dependent on implementation details of Jupyter notebook.\n",
      "    - It would be better if this behavior was included in JupyterLab directly, or there would be cleaner hooks to implement this as an extension.\u001b[m\n",
      "- Integration with mybinder.org\u001b[m\n",
      "- Conda installation?\u001b[m\n",
      "- Integration with jupyter_contrib_extensions?\n",
      "\u001b[32m- Integration with jupyter_cms?\u001b[m\n",
      "\n",
      "\u001b[0m\u001b[34m## deleted /cells/12-15:\u001b[0m\n",
      "\u001b[31m-  markdown cell:\n",
      "\u001b[31m-    metadata (known keys):\n",
      "\u001b[31m-      collapsed: True\n",
      "\u001b[31m-    metadata (unknown keys):\n",
      "\u001b[31m-      ExecuteTime:\n",
      "\u001b[31m-        end_time: 2017-10-02T23:26:18.372970Z\n",
      "\u001b[31m-        start_time: 2017-10-02T23:26:18.357716Z\n",
      "\u001b[31m-    source:\n",
      "\u001b[31m-      # Commit\n",
      "\u001b[31m-  code cell:\n",
      "\u001b[31m-    execution_count: 2\n",
      "\u001b[31m-    metadata (unknown keys):\n",
      "\u001b[31m-      ExecuteTime:\n",
      "\u001b[31m-        end_time: 2017-10-02T23:27:48.741167Z\n",
      "\u001b[31m-        start_time: 2017-10-02T23:27:45.271860Z\n",
      "\u001b[31m-    source:\n",
      "\u001b[31m-      !git stage setup.py\n",
      "\u001b[31m-      !git commit -m 'update v0.2'\n",
      "\u001b[31m-      !git push -u origin master\n",
      "\u001b[31m-    outputs:\n",
      "\u001b[31m-      output 0:\n",
      "\u001b[31m-        output_type: stream\n",
      "\u001b[31m-        name: stdout\n",
      "\u001b[31m-        text:\n",
      "\u001b[31m-          [master e0b3b5c] update v0.2\n",
      "\u001b[31m-           1 file changed, 1 insertion(+), 1 deletion(-)\n",
      "\u001b[31m-          Counting objects: 3, done.\n",
      "\u001b[31m-          Delta compression using up to 2 threads.\n",
      "\u001b[31m-          Compressing objects: 100% (3/3), done.\n",
      "\u001b[31m-          Writing objects: 100% (3/3), 282 bytes | 0 bytes/s, done.\n",
      "\u001b[31m-          Total 3 (delta 2), reused 0 (delta 0)\n",
      "\u001b[31m-          remote: Resolving deltas: 100% (2/2), completed with 2 local objects.\u001b[K\n",
      "\u001b[31m-          To https://github.com/waynebliu/jupyter_share_session.git\n",
      "\u001b[31m-             1259434..e0b3b5c  master -> master\n",
      "\u001b[31m-          Branch master set up to track remote branch master from origin.\n",
      "\u001b[31m-  markdown cell:\n",
      "\u001b[31m-    source:\n",
      "\u001b[31m-      # Release\n",
      "\u001b[31m-  code cell:\n",
      "\u001b[31m-    execution_count: 3\n",
      "\u001b[31m-    metadata (unknown keys):\n",
      "\u001b[31m-      ExecuteTime:\n",
      "\u001b[31m-        end_time: 2017-10-02T23:27:56.576207Z\n",
      "\u001b[31m-        start_time: 2017-10-02T23:27:53.074349Z\n",
      "\u001b[31m-    source:\n",
      "\u001b[31m-      !python setup.py sdist upload\n",
      "\u001b[31m-    outputs:\n",
      "\u001b[31m-      output 0:\n",
      "\u001b[31m-        output_type: stream\n",
      "\u001b[31m-        name: stdout\n",
      "\u001b[31m-        text:\n",
      "\u001b[31m-          running sdist\n",
      "\u001b[31m-          running egg_info\n",
      "\u001b[31m-          writing jupyter_share_session.egg-info/PKG-INFO\n",
      "\u001b[31m-          writing dependency_links to jupyter_share_session.egg-info/dependency_links.txt\n",
      "\u001b[31m-          writing top-level names to jupyter_share_session.egg-info/top_level.txt\n",
      "\u001b[31m-          reading manifest file 'jupyter_share_session.egg-info/SOURCES.txt'\n",
      "\u001b[31m-          reading manifest template 'MANIFEST.in'\n",
      "\u001b[31m-          writing manifest file 'jupyter_share_session.egg-info/SOURCES.txt'\n",
      "\u001b[31m-          warning: sdist: standard file not found: should have one of README, README.rst, README.txt\n",
      "\u001b[31m-          \n",
      "\u001b[31m-          running check\n",
      "\u001b[31m-          creating jupyter_share_session-0.2\n",
      "\u001b[31m-          creating jupyter_share_session-0.2/jupyter_share_session\n",
      "\u001b[31m-          creating jupyter_share_session-0.2/jupyter_share_session.egg-info\n",
      "\u001b[31m-          copying files to jupyter_share_session-0.2...\n",
      "\u001b[31m-          copying MANIFEST.in -> jupyter_share_session-0.2\n",
      "\u001b[31m-          copying README.md -> jupyter_share_session-0.2\n",
      "\u001b[31m-          copying setup.py -> jupyter_share_session-0.2\n",
      "\u001b[31m-          copying jupyter_share_session/__init__.py -> jupyter_share_session-0.2/jupyter_share_session\n",
      "\u001b[31m-          copying jupyter_share_session/sharesession.html -> jupyter_share_session-0.2/jupyter_share_session\n",
      "\u001b[31m-          copying jupyter_share_session.egg-info/PKG-INFO -> jupyter_share_session-0.2/jupyter_share_session.egg-info\n",
      "\u001b[31m-          copying jupyter_share_session.egg-info/SOURCES.txt -> jupyter_share_session-0.2/jupyter_share_session.egg-info\n",
      "\u001b[31m-          copying jupyter_share_session.egg-info/dependency_links.txt -> jupyter_share_session-0.2/jupyter_share_session.egg-info\n",
      "\u001b[31m-          copying jupyter_share_session.egg-info/not-zip-safe -> jupyter_share_session-0.2/jupyter_share_session.egg-info\n",
      "\u001b[31m-          copying jupyter_share_session.egg-info/top_level.txt -> jupyter_share_session-0.2/jupyter_share_session.egg-info\n",
      "\u001b[31m-          Writing jupyter_share_session-0.2/setup.cfg\n",
      "\u001b[31m-          Creating tar archive\n",
      "\u001b[31m-          removing 'jupyter_share_session-0.2' (and everything under it)\n",
      "\u001b[31m-          running upload\n",
      "\u001b[31m-          Submitting dist/jupyter_share_session-0.2.tar.gz to https://upload.pypi.org/legacy/\n",
      "\u001b[31m-          Server response (200): OK\n",
      "\n",
      "\u001b[0m\u001b[34m## added /metadata/toc:\u001b[0m\n",
      "\u001b[32m+  colors:\n",
      "\u001b[32m+    hover_highlight: #DAA520\n",
      "\u001b[32m+    navigate_num: #000000\n",
      "\u001b[32m+    navigate_text: #333333\n",
      "\u001b[32m+    running_highlight: #FF0000\n",
      "\u001b[32m+    selected_highlight: #FFD700\n",
      "\u001b[32m+    sidebar_border: #EEEEEE\n",
      "\u001b[32m+    wrapper_background: #FFFFFF\n",
      "\u001b[32m+  moveMenuLeft: True\n",
      "\u001b[32m+  nav_menu:\n",
      "\u001b[32m+    height: 103px\n",
      "\u001b[32m+    width: 252px\n",
      "\u001b[32m+  navigate_menu: True\n",
      "\u001b[32m+  number_sections: True\n",
      "\u001b[32m+  sideBar: True\n",
      "\u001b[32m+  skip_h1_title: False\n",
      "\u001b[32m+  threshold: 4\n",
      "\u001b[32m+  toc_cell: False\n",
      "\u001b[32m+  toc_section_display: block\n",
      "\u001b[32m+  toc_window_display: False\n",
      "\u001b[32m+  widenNotebook: False\n",
      "\n"
     ]
    },
    {
     "name": "stdout",
     "output_type": "stream",
     "text": [
      "\u001b[0m\u001b[1mdiff --git a/setup.py b/setup.py\u001b[m\n",
      "\u001b[1mindex 1fa34c3..c972d81 100644\u001b[m\n",
      "\u001b[1m--- a/setup.py\u001b[m\n",
      "\u001b[1m+++ b/setup.py\u001b[m\n",
      "\u001b[36m@@ -1,7 +1,7 @@\u001b[m\n",
      " from setuptools import setup\u001b[m\n",
      " \u001b[m\n",
      " setup(name='jupyter_share_session',\u001b[m\n",
      "\u001b[31m-      version='0.2.1',\u001b[m\n",
      "\u001b[32m+\u001b[m\u001b[32m      version='0.2.2',\u001b[m\n",
      "       description='Split a notebook into multiple files.',\u001b[m\n",
      "       url='http://github.com/waynebliu/jupyter_share_session/',\u001b[m\n",
      "       author='Wayne Liu',\u001b[m\n",
      "nbdiff /tmp/aarfVg_workflow.ipynb workflow.ipynb\n",
      "--- /tmp/aarfVg_workflow.ipynb  2017-11-06 14:25:22.974217\n",
      "+++ workflow.ipynb  2017-11-06 13:43:33.280941\n",
      "\u001b[34m## replaced /cells/1/execution_count:\u001b[0m\n",
      "\u001b[31m-  6\n",
      "\u001b[32m+  27\n",
      "\n",
      "\u001b[0m\u001b[34m## modified /cells/1/metadata/ExecuteTime/end_time:\u001b[0m\n",
      "\u001b[31m-  2017-10-03T01:31:56.949401Z\n",
      "\u001b[32m+  2017-11-06T18:43:27.034468Z\n",
      "\n",
      "\u001b[0m\u001b[34m## modified /cells/1/metadata/ExecuteTime/start_time:\u001b[0m\n",
      "\u001b[31m-  2017-10-03T01:31:56.804290Z\n",
      "\u001b[32m+  2017-11-06T18:43:26.889807Z\n",
      "\n",
      "\u001b[0m\u001b[34m## replaced /cells/2/execution_count:\u001b[0m\n",
      "\u001b[31m-  11\n",
      "\u001b[32m+  28\n",
      "\n",
      "\u001b[0m\u001b[34m## modified /cells/2/metadata/ExecuteTime/end_time:\u001b[0m\n",
      "\u001b[31m-  2017-10-03T01:33:10.158967Z\n",
      "\u001b[32m+  2017-11-06T18:43:31.469017Z\n",
      "\n",
      "\u001b[0m\u001b[34m## modified /cells/2/metadata/ExecuteTime/start_time:\u001b[0m\n",
      "\u001b[31m-  2017-10-03T01:33:07.475519Z\n",
      "\u001b[32m+  2017-11-06T18:43:28.951514Z\n",
      "\n",
      "\u001b[0m\u001b[34m## inserted before /cells/2/outputs/0:\u001b[0m\n",
      "\u001b[32m+  output:\n",
      "\u001b[32m+    output_type: stream\n",
      "\u001b[32m+    name: stdout\n",
      "\u001b[32m+    text:\n",
      "\u001b[32m+      Traceback (most recent call last):\n",
      "\u001b[32m+        File \"/home/wayne/miniconda3/envs/mypy/bin/jupyter-nbconvert\", line 11, in <module>\n",
      "\u001b[32m+          load_entry_point('nbconvert==5.2.1', 'console_scripts', 'jupyter-nbconvert')()\n",
      "\u001b[32m+        File \"/home/wayne/miniconda3/envs/mypy/lib/python3.6/site-packages/jupyter_core/application.py\", line 267, in launch_instance\n",
      "\u001b[32m+          return super(JupyterApp, cls).launch_instance(argv=argv, **kwargs)\n",
      "\u001b[32m+        File \"/home/wayne/miniconda3/envs/mypy/lib/python3.6/site-packages/traitlets/config/application.py\", line 658, in launch_instance\n",
      "\u001b[32m+          app.start()\n",
      "\u001b[32m+        File \"/home/wayne/miniconda3/envs/mypy/lib/python3.6/site-packages/nbconvert/nbconvertapp.py\", line 313, in start\n",
      "\u001b[32m+          self.convert_notebooks()\n",
      "\u001b[32m+        File \"/home/wayne/miniconda3/envs/mypy/lib/python3.6/site-packages/nbconvert/nbconvertapp.py\", line 471, in convert_notebooks\n",
      "\u001b[32m+          self.exporter = cls(config=self.config)\n",
      "\u001b[32m+        File \"/home/wayne/miniconda3/envs/mypy/lib/python3.6/site-packages/nbconvert/exporters/templateexporter.py\", line 231, in __init__\n",
      "\u001b[32m+          super(TemplateExporter, self).__init__(config=config, **kw)\n",
      "\u001b[32m+        File \"/home/wayne/miniconda3/envs/mypy/lib/python3.6/site-packages/nbconvert/exporters/exporter.py\", line 103, in __init__\n",
      "\u001b[32m+          self._init_preprocessors()\n",
      "\u001b[32m+        File \"/home/wayne/miniconda3/envs/mypy/lib/python3.6/site-packages/nbconvert/exporters/exporter.py\", line 257, in _init_preprocessors\n",
      "\u001b[32m+          self.register_preprocessor(preprocessor, enabled=True)\n",
      "\u001b[32m+        File \"/home/wayne/miniconda3/envs/mypy/lib/python3.6/site-packages/nbconvert/exporters/exporter.py\", line 218, in register_preprocessor\n",
      "\u001b[32m+          preprocessor_cls = import_item(preprocessor)\n",
      "\u001b[32m+        File \"/home/wayne/miniconda3/envs/mypy/lib/python3.6/site-packages/traitlets/utils/importstring.py\", line 34, in import_item\n",
      "\u001b[32m+          module = __import__(package, fromlist=[obj])\n",
      "\u001b[32m+      ModuleNotFoundError: No module named 'jupyter_contrib_nbextensions'\n",
      "\n",
      "\u001b[0m\u001b[34m## deleted /cells/2/outputs/0:\u001b[0m\n",
      "\u001b[31m-  output:\n",
      "\u001b[31m-    output_type: stream\n",
      "\u001b[31m-    name: stdout\n",
      "\u001b[31m-    text:\n",
      "\u001b[31m-      [NbConvertApp] Converting notebook index.ipynb to markdown\n",
      "\u001b[31m-      [NbConvertApp] Writing 5779 bytes to README.md\n",
      "\n",
      "\u001b[0m\u001b[34m## inserted before /cells/4:\u001b[0m\n",
      "\u001b[32m+  code cell:\n",
      "\u001b[32m+    execution_count: 26\n",
      "\u001b[32m+    metadata (unknown keys):\n",
      "\u001b[32m+      ExecuteTime:\n",
      "\u001b[32m+        end_time: 2017-11-06T18:43:15.560024Z\n",
      "\u001b[32m+        start_time: 2017-11-06T18:43:15.415084Z\n",
      "\u001b[32m+    source:\n",
      "\u001b[32m+      !git status\n",
      "\u001b[32m+    outputs:\n",
      "\u001b[32m+      output 0:\n",
      "\u001b[32m+        output_type: stream\n",
      "\u001b[32m+        name: stdout\n",
      "\u001b[32m+        text:\n",
      "\u001b[32m+          On branch master\n",
      "\u001b[32m+          Your branch is up-to-date with 'origin/master'.\n",
      "\u001b[32m+          Changes not staged for commit:\n",
      "\u001b[32m+            (use \"git add <file>...\" to update what will be committed)\n",
      "\u001b[32m+            (use \"git checkout -- <file>...\" to discard changes in working directory)\n",
      "\u001b[32m+          \n",
      "\u001b[32m+          \t\u001b[31mmodified:   README.md\u001b[m\n",
      "\u001b[32m+          \t\u001b[31mmodified:   index.ipynb\u001b[m\n",
      "\u001b[32m+          \t\u001b[31mmodified:   setup.py\u001b[m\n",
      "\u001b[32m+          \t\u001b[31mmodified:   workflow.ipynb\u001b[m\n",
      "\u001b[32m+          \n",
      "\u001b[32m+          Untracked files:\n",
      "\u001b[32m+            (use \"git add <file>...\" to include in what will be committed)\n",
      "\u001b[32m+          \n",
      "\u001b[32m+          \t\u001b[31mjupyter_share_session-0.2.1/\u001b[m\n",
      "\u001b[32m+          \t\u001b[31mjupyter_share_session/magic.py\u001b[m\n",
      "\u001b[32m+          \n",
      "\u001b[32m+          no changes added to commit (use \"git add\" and/or \"git commit -a\")\n",
      "\u001b[32m+  code cell:\n",
      "\u001b[32m+    metadata (unknown keys):\n",
      "\u001b[32m+      ExecuteTime:\n",
      "\u001b[32m+        end_time: 2017-11-06T18:42:12.335493Z\n",
      "\u001b[32m+        start_time: 2017-11-06T18:42:10.473989Z\n",
      "\u001b[32m+    source:\n",
      "\u001b[32m+      !nbdiff -s\n",
      "\u001b[32m+  code cell:\n",
      "\u001b[32m+    metadata (unknown keys):\n",
      "\u001b[32m+      ExecuteTime:\n",
      "\u001b[32m+        end_time: 2017-11-06T18:37:15.725723Z\n",
      "\u001b[32m+        start_time: 2017-11-06T18:37:13.214368Z\n",
      "\u001b[32m+    source:\n",
      "\u001b[32m+      !git diff\n",
      "\u001b[32m+  code cell:\n",
      "\u001b[32m+    metadata (known keys):\n",
      "\u001b[32m+      collapsed: True\n",
      "\u001b[32m+    metadata (unknown keys):\n",
      "\u001b[32m+      ExecuteTime:\n",
      "\u001b[32m+        end_time: 2017-11-04T01:55:48.328569Z\n",
      "\u001b[32m+        start_time: 2017-11-04T01:55:48.189694Z\n",
      "\u001b[32m+    source:\n",
      "\u001b[32m+      !git add Magic.ipynb\n",
      "\u001b[32m+  code cell:\n",
      "\u001b[32m+    metadata (known keys):\n",
      "\u001b[32m+      collapsed: True\n",
      "\u001b[32m+    source:\n",
      "\u001b[32m+      !git stage jupyter_share_session/__init__.py\n",
      "\u001b[32m+  code cell:\n",
      "\u001b[32m+    metadata (unknown keys):\n",
      "\u001b[32m+      ExecuteTime:\n",
      "\u001b[32m+        end_time: 2017-11-04T01:55:53.667477Z\n",
      "\u001b[32m+        start_time: 2017-11-04T01:55:50.845637Z\n",
      "\u001b[32m+    source:\n",
      "\u001b[32m+      !git commit -m 'update v0.2.2 - add globalval magic, use contentmanager for download'\n",
      "\u001b[32m+      !git push -u origin master\n",
      "\n",
      "\u001b[0m\u001b[34m## deleted /cells/4:\u001b[0m\n",
      "\u001b[31m-  code cell:\n",
      "\u001b[31m-    execution_count: 1\n",
      "\u001b[31m-    metadata (unknown keys):\n",
      "\u001b[31m-      ExecuteTime:\n",
      "\u001b[31m-        end_time: 2017-10-19T21:19:27.292768Z\n",
      "\u001b[31m-        start_time: 2017-10-19T21:19:20.041048Z\n",
      "\u001b[31m-    source:\n",
      "\u001b[31m-      !git stage setup.py jupyter_share_session/__init__.py\n",
      "\u001b[31m-      !git commit -m 'fix window title for index.ipynb; update v0.2.1'\n",
      "\u001b[31m-      !git push -u origin master\n",
      "\u001b[31m-    outputs:\n",
      "\u001b[31m-      output 0:\n",
      "\u001b[31m-        output_type: stream\n",
      "\u001b[31m-        name: stdout\n",
      "\u001b[31m-        text:\n",
      "\u001b[31m-          [master 1d59c8b] fix window title for index.ipynb; update v0.2.1\n",
      "\u001b[31m-           2 files changed, 2 insertions(+), 2 deletions(-)\n",
      "\u001b[31m-          Username for 'https://github.com': ^C\n",
      "\n",
      "\u001b[0m\u001b[34m## replaced (type changed from int to NoneType) /cells/6/execution_count:\u001b[0m\n",
      "\u001b[31m-  2\n",
      "\u001b[32m+  None\n",
      "\n",
      "\u001b[0m\u001b[34m## deleted /cells/6/outputs/0:\u001b[0m\n",
      "\u001b[31m-  output:\n",
      "\u001b[31m-    output_type: stream\n",
      "\u001b[31m-    name: stdout\n",
      "\u001b[31m-    text:\n",
      "\u001b[31m-      running sdist\n",
      "\u001b[31m-      running egg_info\n",
      "\u001b[31m-      writing jupyter_share_session.egg-info/PKG-INFO\n",
      "\u001b[31m-      writing dependency_links to jupyter_share_session.egg-info/dependency_links.txt\n",
      "\u001b[31m-      writing top-level names to jupyter_share_session.egg-info/top_level.txt\n",
      "\u001b[31m-      reading manifest file 'jupyter_share_session.egg-info/SOURCES.txt'\n",
      "\u001b[31m-      reading manifest template 'MANIFEST.in'\n",
      "\u001b[31m-      writing manifest file 'jupyter_share_session.egg-info/SOURCES.txt'\n",
      "\u001b[31m-      warning: sdist: standard file not found: should have one of README, README.rst, README.txt\n",
      "\u001b[31m-      \n",
      "\u001b[31m-      running check\n",
      "\u001b[31m-      creating jupyter_share_session-0.2.1\n",
      "\u001b[31m-      creating jupyter_share_session-0.2.1/jupyter_share_session\n",
      "\u001b[31m-      creating jupyter_share_session-0.2.1/jupyter_share_session.egg-info\n",
      "\u001b[31m-      copying files to jupyter_share_session-0.2.1...\n",
      "\u001b[31m-      copying MANIFEST.in -> jupyter_share_session-0.2.1\n",
      "\u001b[31m-      copying README.md -> jupyter_share_session-0.2.1\n",
      "\u001b[31m-      copying setup.py -> jupyter_share_session-0.2.1\n",
      "\u001b[31m-      copying jupyter_share_session/__init__.py -> jupyter_share_session-0.2.1/jupyter_share_session\n",
      "\u001b[31m-      copying jupyter_share_session/sharesession.html -> jupyter_share_session-0.2.1/jupyter_share_session\n",
      "\u001b[31m-      copying jupyter_share_session.egg-info/PKG-INFO -> jupyter_share_session-0.2.1/jupyter_share_session.egg-info\n",
      "\u001b[31m-      copying jupyter_share_session.egg-info/SOURCES.txt -> jupyter_share_session-0.2.1/jupyter_share_session.egg-info\n",
      "\u001b[31m-      copying jupyter_share_session.egg-info/dependency_links.txt -> jupyter_share_session-0.2.1/jupyter_share_session.egg-info\n",
      "\u001b[31m-      copying jupyter_share_session.egg-info/not-zip-safe -> jupyter_share_session-0.2.1/jupyter_share_session.egg-info\n",
      "\u001b[31m-      copying jupyter_share_session.egg-info/top_level.txt -> jupyter_share_session-0.2.1/jupyter_share_session.egg-info\n",
      "\u001b[31m-      Writing jupyter_share_session-0.2.1/setup.cfg\n",
      "\u001b[31m-      Creating tar archive\n",
      "\u001b[31m-      removing 'jupyter_share_session-0.2.1' (and everything under it)\n",
      "\u001b[31m-      running upload\n",
      "\u001b[31m-      Submitting dist/jupyter_share_session-0.2.1.tar.gz to https://upload.pypi.org/legacy/\n",
      "\u001b[31m-      Server response (200): OK\n",
      "\n",
      "\u001b[0m\u001b[34m## replaced (type changed from int to NoneType) /cells/8/execution_count:\u001b[0m\n",
      "\u001b[31m-  1\n",
      "\u001b[32m+  None\n",
      "\n",
      "\u001b[0m\u001b[34m## modified /cells/8/metadata/ExecuteTime/end_time:\u001b[0m\n",
      "\u001b[31m-  2017-10-05T21:33:44.959652Z\n",
      "\u001b[32m+  2017-11-03T00:17:26.311920Z\n",
      "\n",
      "\u001b[0m\u001b[34m## modified /cells/8/metadata/ExecuteTime/start_time:\u001b[0m\n",
      "\u001b[31m-  2017-10-05T21:33:44.892204Z\n",
      "\u001b[32m+  2017-11-03T00:17:26.267133Z\n",
      "\n",
      "\u001b[0m\u001b[34m## deleted /cells/8/outputs/0:\u001b[0m\n",
      "\u001b[31m-  output:\n",
      "\u001b[31m-    output_type: stream\n",
      "\u001b[31m-    name: stdout\n",
      "\u001b[31m-    text:\n",
      "\u001b[31m-      Starting job # 0 in a separate thread.\n",
      "\n",
      "\u001b[0m\u001b[34m## replaced (type changed from int to NoneType) /cells/9/execution_count:\u001b[0m\n",
      "\u001b[31m-  3\n",
      "\u001b[32m+  None\n",
      "\n",
      "\u001b[0m\u001b[34m## modified /cells/9/metadata/ExecuteTime/end_time:\u001b[0m\n",
      "\u001b[31m-  2017-10-05T21:34:27.965376Z\n",
      "\u001b[32m+  2017-11-03T00:17:28.292537Z\n",
      "\n",
      "\u001b[0m\u001b[34m## modified /cells/9/metadata/ExecuteTime/start_time:\u001b[0m\n",
      "\u001b[31m-  2017-10-05T21:34:27.811595Z\n",
      "\u001b[32m+  2017-11-03T00:17:28.133708Z\n",
      "\n",
      "\u001b[0m\u001b[34m## deleted /cells/9/outputs/0:\u001b[0m\n",
      "\u001b[31m-  output:\n",
      "\u001b[31m-    output_type: stream\n",
      "\u001b[31m-    name: stdout\n",
      "\u001b[31m-    text:\n",
      "\u001b[31m-      CONTRIBUTING.md  jupyter_share_session\t\t myworkflow  workflow.ipynb\n",
      "\u001b[31m-      dist\t\t jupyter_share_session.egg-info  README.md\n",
      "\u001b[31m-      index.ipynb\t MANIFEST.in\t\t\t setup.py\n",
      "\n",
      "\u001b[0m\u001b[34m## modified /cells/10/source:\u001b[0m\n",
      "\u001b[36m@@ -1,5 +1,3 @@\u001b[m\n",
      "\u001b[31mhttp://localhost:8889/notebooks/myworkflow/index.ipynb=http://localhost:8888/api/contents/myworkflow/index.ipynb\u001b[m\u001b[32mhttp://localhost:8889/notebooks/index.ipynb=http://localhost:8888/api/contents/index.ipynb\u001b[m\n",
      "\n",
      "\u001b[31mhttp://localhost:8889/notebooks/myworkflow/index.ipynb=http://localhost:8000/index.ipynb\u001b[m\n",
      "\n",
      "\u001b[31mhttp://localhost:8889/notebooks/myworkflow/index.ipynb=http://localhost:8000/workflow.ipynb\u001b[m\u001b[32mhttp://localhost:8889/notebooks/index.ipynb=http://localhost:8000/index.ipynb\u001b[m\n",
      "\n",
      "\u001b[0m\u001b[34m## replaced (type changed from int to NoneType) /cells/11/execution_count:\u001b[0m\n",
      "\u001b[31m-  4\n",
      "\u001b[32m+  None\n",
      "\n",
      "\u001b[0m\u001b[34m## modified /cells/11/metadata/ExecuteTime/end_time:\u001b[0m\n",
      "\u001b[31m-  2017-10-05T21:37:19.326959Z\n",
      "\u001b[32m+  2017-11-03T00:18:08.310605Z\n",
      "\n",
      "\u001b[0m\u001b[34m## modified /cells/11/metadata/ExecuteTime/start_time:\u001b[0m\n",
      "\u001b[31m-  2017-10-05T21:37:19.218569Z\n",
      "\u001b[32m+  2017-11-03T00:18:08.091399Z\n",
      "\n",
      "\u001b[0m\u001b[34m## deleted /cells/11/outputs/0:\u001b[0m\n",
      "\u001b[31m-  output:\n",
      "\u001b[31m-    output_type: stream\n",
      "\u001b[31m-    name: stdout\n",
      "\u001b[31m-    text:\n",
      "\u001b[31m-      All background processes were killed.\n",
      "\n",
      "\u001b[0m\u001b[34m## replaced (type changed from int to NoneType) /cells/13/execution_count:\u001b[0m\n",
      "\u001b[31m-  3\n",
      "\u001b[32m+  None\n",
      "\n",
      "\u001b[0m\u001b[34m## deleted /cells/13/outputs/0:\u001b[0m\n",
      "\u001b[31m-  output:\n",
      "\u001b[31m-    output_type: stream\n",
      "\u001b[31m-    name: stdout\n",
      "\u001b[31m-    text:\n",
      "\u001b[31m-      Name: jupyter-share-session\n",
      "\u001b[31m-      Version: 0.2.1\n",
      "\u001b[31m-      Summary: Split a notebook into multiple files.\n",
      "\u001b[31m-      Home-page: http://github.com/waynebliu/jupyter_share_session/\n",
      "\u001b[31m-      Author: Wayne Liu\n",
      "\u001b[31m-      Author-email: waynebliu@yahoo.com\n",
      "\u001b[31m-      License: MIT\n",
      "\u001b[31m-      Location: /home/wayne/jupyter_share_session\n",
      "\u001b[31m-      Requires: \n",
      "\n",
      "\u001b[0m\u001b[34m## modified /cells/14/source:\u001b[0m\n",
      "\u001b[31m-  !pip install -e .~~\n",
      "\u001b[32m+  !pip install -e .\n",
      "\n",
      "\u001b[0m\u001b[34m## inserted before /cells/15:\u001b[0m\n",
      "\u001b[32m+  code cell:\n",
      "\u001b[32m+    metadata (known keys):\n",
      "\u001b[32m+      collapsed: True\n",
      "\u001b[32m+    metadata (unknown keys):\n",
      "\u001b[32m+      ExecuteTime:\n",
      "\u001b[32m+        end_time: 2017-10-27T23:23:59.753078Z\n",
      "\u001b[32m+        start_time: 2017-10-27T23:23:59.609895Z\n",
      "\u001b[32m+    source:\n",
      "\u001b[32m+      ?Exception\n",
      "\u001b[32m+  code cell:\n",
      "\u001b[32m+    metadata (known keys):\n",
      "\u001b[32m+      collapsed: True\n",
      "\u001b[32m+    metadata (unknown keys):\n",
      "\u001b[32m+      ExecuteTime:\n",
      "\u001b[32m+        end_time: 2017-11-04T02:14:41.436953Z\n",
      "\u001b[32m+        start_time: 2017-11-04T02:14:40.690015Z\n",
      "\u001b[32m+    source:\n",
      "\u001b[32m+      %load_ext jupyter_share_session\n",
      "\u001b[32m+  code cell:\n",
      "\u001b[32m+    metadata (known keys):\n",
      "\u001b[32m+      collapsed: True\n",
      "\u001b[32m+    metadata (unknown keys):\n",
      "\u001b[32m+      ExecuteTime:\n",
      "\u001b[32m+        end_time: 2017-11-04T02:26:34.926267Z\n",
      "\u001b[32m+        start_time: 2017-11-04T02:26:34.912997Z\n",
      "\u001b[32m+    source:\n",
      "\u001b[32m+      hello3=1\n",
      "\u001b[32m+  code cell:\n",
      "\u001b[32m+    metadata (known keys):\n",
      "\u001b[32m+      collapsed: True\n",
      "\u001b[32m+    metadata (unknown keys):\n",
      "\u001b[32m+      ExecuteTime:\n",
      "\u001b[32m+        end_time: 2017-11-04T02:26:25.544538Z\n",
      "\u001b[32m+        start_time: 2017-11-04T02:26:25.528060Z\n",
      "\u001b[32m+    source:\n",
      "\u001b[32m+      def test():\n",
      "\u001b[32m+          %globalvals hello3\n",
      "\u001b[32m+          print(hello3)\n",
      "\u001b[32m+  code cell:\n",
      "\u001b[32m+    metadata (unknown keys):\n",
      "\u001b[32m+      ExecuteTime:\n",
      "\u001b[32m+        end_time: 2017-11-04T02:26:37.061216Z\n",
      "\u001b[32m+        start_time: 2017-11-04T02:26:37.042296Z\n",
      "\u001b[32m+    source:\n",
      "\u001b[32m+      test()\n",
      "\u001b[32m+  code cell:\n",
      "\u001b[32m+    metadata (known keys):\n",
      "\u001b[32m+      collapsed: True\n",
      "\n",
      "\u001b[0m\u001b[34m## added /metadata/toc:\u001b[0m\n",
      "\u001b[32m+  colors:\n",
      "\u001b[32m+    hover_highlight: #DAA520\n",
      "\u001b[32m+    navigate_num: #000000\n",
      "\u001b[32m+    navigate_text: #333333\n",
      "\u001b[32m+    running_highlight: #FF0000\n",
      "\u001b[32m+    selected_highlight: #FFD700\n",
      "\u001b[32m+    sidebar_border: #EEEEEE\n",
      "\u001b[32m+    wrapper_background: #FFFFFF\n",
      "\u001b[32m+  moveMenuLeft: True\n",
      "\u001b[32m+  nav_menu:\n",
      "\u001b[32m+    height: 195px\n",
      "\u001b[32m+    width: 278px\n",
      "\u001b[32m+  navigate_menu: True\n",
      "\u001b[32m+  number_sections: True\n",
      "\u001b[32m+  sideBar: True\n",
      "\u001b[32m+  skip_h1_title: False\n",
      "\u001b[32m+  threshold: 4\n",
      "\u001b[32m+  toc_cell: False\n",
      "\u001b[32m+  toc_section_display: block\n",
      "\u001b[32m+  toc_window_display: False\n",
      "\u001b[32m+  widenNotebook: False\n",
      "\n",
      "\u001b[0m"
     ]
    }
   ],
   "source": [
    "!git diff"
   ]
  },
  {
   "cell_type": "code",
   "execution_count": null,
   "metadata": {
    "ExecuteTime": {
     "end_time": "2017-11-04T01:55:48.328569Z",
     "start_time": "2017-11-04T01:55:48.189694Z"
    },
    "collapsed": true
   },
   "outputs": [],
   "source": [
    "!git add Magic.ipynb"
   ]
  },
  {
   "cell_type": "code",
   "execution_count": null,
   "metadata": {
    "collapsed": true
   },
   "outputs": [],
   "source": [
    "!git stage jupyter_share_session/__init__.py"
   ]
  },
  {
   "cell_type": "code",
   "execution_count": null,
   "metadata": {
    "ExecuteTime": {
     "end_time": "2017-11-04T01:55:53.667477Z",
     "start_time": "2017-11-04T01:55:50.845637Z"
    }
   },
   "outputs": [],
   "source": [
    "!git commit -m 'update v0.2.2 - add globalval magic, use contentmanager for download'\n",
    "!git push -u origin master"
   ]
  },
  {
   "cell_type": "markdown",
   "metadata": {},
   "source": [
    "# Release"
   ]
  },
  {
   "cell_type": "code",
   "execution_count": null,
   "metadata": {
    "ExecuteTime": {
     "end_time": "2017-10-19T21:20:18.908339Z",
     "start_time": "2017-10-19T21:20:15.949328Z"
    }
   },
   "outputs": [],
   "source": [
    "!python setup.py sdist upload"
   ]
  },
  {
   "cell_type": "markdown",
   "metadata": {},
   "source": [
    "# Testing"
   ]
  },
  {
   "cell_type": "code",
   "execution_count": null,
   "metadata": {
    "ExecuteTime": {
     "end_time": "2017-11-03T00:17:26.311920Z",
     "start_time": "2017-11-03T00:17:26.267133Z"
    }
   },
   "outputs": [],
   "source": [
    "%%bash --bg\n",
    "python -m http.server & jupyter notebook\n",
    "wait"
   ]
  },
  {
   "cell_type": "code",
   "execution_count": null,
   "metadata": {
    "ExecuteTime": {
     "end_time": "2017-11-03T00:17:28.292537Z",
     "start_time": "2017-11-03T00:17:28.133708Z"
    }
   },
   "outputs": [],
   "source": [
    "!ls"
   ]
  },
  {
   "cell_type": "markdown",
   "metadata": {},
   "source": [
    "http://localhost:8889/notebooks/index.ipynb=http://localhost:8888/api/contents/index.ipynb\n",
    "\n",
    "http://localhost:8889/notebooks/index.ipynb=http://localhost:8000/index.ipynb\n"
   ]
  },
  {
   "cell_type": "code",
   "execution_count": null,
   "metadata": {
    "ExecuteTime": {
     "end_time": "2017-11-03T00:18:08.310605Z",
     "start_time": "2017-11-03T00:18:08.091399Z"
    }
   },
   "outputs": [],
   "source": [
    "%killbgscripts"
   ]
  },
  {
   "cell_type": "markdown",
   "metadata": {
    "ExecuteTime": {
     "end_time": "2017-10-19T21:15:06.544819Z",
     "start_time": "2017-10-19T21:15:06.527059Z"
    }
   },
   "source": [
    "# Install"
   ]
  },
  {
   "cell_type": "code",
   "execution_count": null,
   "metadata": {
    "ExecuteTime": {
     "end_time": "2017-10-19T21:20:30.204594Z",
     "start_time": "2017-10-19T21:20:28.618360Z"
    }
   },
   "outputs": [],
   "source": [
    "!pip show jupyter_share_session"
   ]
  },
  {
   "cell_type": "code",
   "execution_count": null,
   "metadata": {
    "collapsed": true
   },
   "outputs": [],
   "source": [
    "!pip install -e ."
   ]
  },
  {
   "cell_type": "code",
   "execution_count": null,
   "metadata": {
    "ExecuteTime": {
     "end_time": "2017-10-27T23:23:59.753078Z",
     "start_time": "2017-10-27T23:23:59.609895Z"
    },
    "collapsed": true
   },
   "outputs": [],
   "source": [
    "?Exception"
   ]
  },
  {
   "cell_type": "code",
   "execution_count": null,
   "metadata": {
    "ExecuteTime": {
     "end_time": "2017-11-04T02:14:41.436953Z",
     "start_time": "2017-11-04T02:14:40.690015Z"
    },
    "collapsed": true
   },
   "outputs": [],
   "source": [
    "%load_ext jupyter_share_session"
   ]
  },
  {
   "cell_type": "code",
   "execution_count": null,
   "metadata": {
    "ExecuteTime": {
     "end_time": "2017-11-04T02:26:34.926267Z",
     "start_time": "2017-11-04T02:26:34.912997Z"
    },
    "collapsed": true
   },
   "outputs": [],
   "source": [
    "hello3=1"
   ]
  },
  {
   "cell_type": "code",
   "execution_count": null,
   "metadata": {
    "ExecuteTime": {
     "end_time": "2017-11-04T02:26:25.544538Z",
     "start_time": "2017-11-04T02:26:25.528060Z"
    },
    "collapsed": true
   },
   "outputs": [],
   "source": [
    "def test():\n",
    "    %globalvals hello3\n",
    "    print(hello3)"
   ]
  },
  {
   "cell_type": "code",
   "execution_count": null,
   "metadata": {
    "ExecuteTime": {
     "end_time": "2017-11-04T02:26:37.061216Z",
     "start_time": "2017-11-04T02:26:37.042296Z"
    }
   },
   "outputs": [],
   "source": [
    "test()"
   ]
  },
  {
   "cell_type": "code",
   "execution_count": null,
   "metadata": {
    "collapsed": true
   },
   "outputs": [],
   "source": []
  }
 ],
 "metadata": {
  "kernelspec": {
   "display_name": "Python 3",
   "language": "python",
   "name": "python3"
  },
  "language_info": {
   "codemirror_mode": {
    "name": "ipython",
    "version": 3
   },
   "file_extension": ".py",
   "mimetype": "text/x-python",
   "name": "python",
   "nbconvert_exporter": "python",
   "pygments_lexer": "ipython3",
   "version": "3.6.2"
  },
  "toc": {
   "colors": {
    "hover_highlight": "#DAA520",
    "navigate_num": "#000000",
    "navigate_text": "#333333",
    "running_highlight": "#FF0000",
    "selected_highlight": "#FFD700",
    "sidebar_border": "#EEEEEE",
    "wrapper_background": "#FFFFFF"
   },
   "moveMenuLeft": true,
   "nav_menu": {
    "height": "195px",
    "width": "278px"
   },
   "navigate_menu": true,
   "number_sections": true,
   "sideBar": true,
   "skip_h1_title": false,
   "threshold": 4,
   "toc_cell": false,
   "toc_section_display": "block",
   "toc_window_display": false,
   "widenNotebook": false
  }
 },
 "nbformat": 4,
 "nbformat_minor": 2
}
