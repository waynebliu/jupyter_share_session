{
 "cells": [
  {
   "cell_type": "code",
   "execution_count": 1,
   "metadata": {
    "ExecuteTime": {
     "end_time": "2017-11-02T21:07:49.959794Z",
     "start_time": "2017-11-02T21:07:49.941681Z"
    },
    "collapsed": true
   },
   "outputs": [],
   "source": [
    "shell = get_ipython()"
   ]
  },
  {
   "cell_type": "code",
   "execution_count": 2,
   "metadata": {
    "ExecuteTime": {
     "end_time": "2017-11-02T21:07:51.195772Z",
     "start_time": "2017-11-02T21:07:50.302069Z"
    }
   },
   "outputs": [
    {
     "name": "stdout",
     "output_type": "stream",
     "text": [
      "my extra template dir /home/wayne/jupyter_share_session/jupyter_share_session\n"
     ]
    }
   ],
   "source": [
    "%load_ext jupyter_share_session"
   ]
  },
  {
   "cell_type": "code",
   "execution_count": 3,
   "metadata": {
    "ExecuteTime": {
     "end_time": "2017-11-02T21:07:52.157209Z",
     "start_time": "2017-11-02T21:07:52.137064Z"
    },
    "collapsed": true
   },
   "outputs": [],
   "source": [
    "import sys\n",
    "def test():\n",
    "    hello = 1\n",
    "    %globalvals shell\n",
    "    print(locals())"
   ]
  },
  {
   "cell_type": "code",
   "execution_count": 4,
   "metadata": {
    "ExecuteTime": {
     "end_time": "2017-11-02T21:07:53.334903Z",
     "start_time": "2017-11-02T21:07:53.321289Z"
    }
   },
   "outputs": [
    {
     "name": "stdout",
     "output_type": "stream",
     "text": [
      "using global shell = <ipykernel.zmqshell.ZMQInteractiveShell object at 0x7f80f3ff54a8>\n",
      "{'hello': 1, 'shell': <ipykernel.zmqshell.ZMQInteractiveShell object at 0x7f80f3ff54a8>}\n"
     ]
    }
   ],
   "source": [
    "test()"
   ]
  },
  {
   "cell_type": "markdown",
   "metadata": {
    "collapsed": true
   },
   "source": [
    "# Test case for download"
   ]
  },
  {
   "cell_type": "markdown",
   "metadata": {},
   "source": [
    "- case 1: simplehttpserver, \n",
    "- case 2: jupyter content api\n",
    "- \n"
   ]
  }
 ],
 "metadata": {
  "kernelspec": {
   "display_name": "Python 3",
   "language": "python",
   "name": "python3"
  },
  "language_info": {
   "codemirror_mode": {
    "name": "ipython",
    "version": 3
   },
   "file_extension": ".py",
   "mimetype": "text/x-python",
   "name": "python",
   "nbconvert_exporter": "python",
   "pygments_lexer": "ipython3",
   "version": "3.6.2"
  }
 },
 "nbformat": 4,
 "nbformat_minor": 2
}
