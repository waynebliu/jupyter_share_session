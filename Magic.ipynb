{
 "cells": [
  {
   "cell_type": "code",
   "execution_count": 177,
   "metadata": {
    "ExecuteTime": {
     "end_time": "2017-11-07T00:48:20.181021Z",
     "start_time": "2017-11-07T00:48:20.167922Z"
    }
   },
   "outputs": [],
   "source": [
    "importlib.reload(jupyter_share_session.decorator)\n",
    "from jupyter_share_session.decorator import defaultNsParams, NsDefaultOrVal, nsDefault\n"
   ]
  },
  {
   "cell_type": "code",
   "execution_count": 178,
   "metadata": {
    "ExecuteTime": {
     "end_time": "2017-11-07T00:48:20.676649Z",
     "start_time": "2017-11-07T00:48:20.659086Z"
    },
    "collapsed": true
   },
   "outputs": [],
   "source": [
    "globalvariable1 = 10"
   ]
  },
  {
   "cell_type": "code",
   "execution_count": 179,
   "metadata": {
    "ExecuteTime": {
     "end_time": "2017-11-07T00:48:20.964859Z",
     "start_time": "2017-11-07T00:48:20.938282Z"
    }
   },
   "outputs": [],
   "source": [
    "@defaultNsParams(ns = get_ipython().user_global_ns)\n",
    "def test1(hello=NsDefaultOrVal(1),hello2=2,globalvariable1=nsDefault):\n",
    "    print(hello,hello2,globalvariable1)"
   ]
  },
  {
   "cell_type": "code",
   "execution_count": 180,
   "metadata": {
    "ExecuteTime": {
     "end_time": "2017-11-07T00:48:21.442138Z",
     "start_time": "2017-11-07T00:48:21.419115Z"
    }
   },
   "outputs": [
    {
     "name": "stdout",
     "output_type": "stream",
     "text": [
      "1 2 10\n"
     ]
    }
   ],
   "source": [
    "test1()"
   ]
  },
  {
   "cell_type": "code",
   "execution_count": 181,
   "metadata": {
    "ExecuteTime": {
     "end_time": "2017-11-07T00:48:21.907345Z",
     "start_time": "2017-11-07T00:48:21.880917Z"
    },
    "collapsed": true
   },
   "outputs": [],
   "source": [
    "@defaultNsParams(ns = get_ipython().user_global_ns)\n",
    "def test2(hello=NsDefaultOrVal(1),hello2=2,globalvariable1=nsDefault,globalvariable2=nsDefault):\n",
    "    print(hello,hello2,globalvariable1,globalvariable2)"
   ]
  },
  {
   "cell_type": "code",
   "execution_count": 182,
   "metadata": {
    "ExecuteTime": {
     "end_time": "2017-11-07T00:48:22.468052Z",
     "start_time": "2017-11-07T00:48:22.437595Z"
    }
   },
   "outputs": [
    {
     "ename": "KeyError",
     "evalue": "'globalvariable2'",
     "output_type": "error",
     "traceback": [
      "\u001b[0;31m---------------------------------------------------------------------------\u001b[0m",
      "\u001b[0;31mKeyError\u001b[0m                                  Traceback (most recent call last)",
      "\u001b[0;32m<ipython-input-182-35ebc1c532fc>\u001b[0m in \u001b[0;36m<module>\u001b[0;34m()\u001b[0m\n\u001b[0;32m----> 1\u001b[0;31m \u001b[0mtest2\u001b[0m\u001b[0;34m(\u001b[0m\u001b[0;34m)\u001b[0m\u001b[0;34m\u001b[0m\u001b[0m\n\u001b[0m",
      "\u001b[0;32m~/jupyter_share_session/jupyter_share_session/decorator.py\u001b[0m in \u001b[0;36mwrappedfunction\u001b[0;34m(*args, **kwargs)\u001b[0m\n\u001b[1;32m     25\u001b[0m                 \u001b[0;32mif\u001b[0m \u001b[0mreplace\u001b[0m \u001b[0;34m==\u001b[0m \u001b[0mMustDefineNsVal\u001b[0m\u001b[0;34m:\u001b[0m\u001b[0;34m\u001b[0m\u001b[0m\n\u001b[1;32m     26\u001b[0m                     \u001b[0;31m# must specify a value in ns\u001b[0m\u001b[0;34m\u001b[0m\u001b[0;34m\u001b[0m\u001b[0m\n\u001b[0;32m---> 27\u001b[0;31m                     \u001b[0mreplace\u001b[0m \u001b[0;34m=\u001b[0m \u001b[0mns\u001b[0m\u001b[0;34m[\u001b[0m\u001b[0marg\u001b[0m\u001b[0;34m]\u001b[0m\u001b[0;34m\u001b[0m\u001b[0m\n\u001b[0m\u001b[1;32m     28\u001b[0m                 \u001b[0;32melse\u001b[0m\u001b[0;34m:\u001b[0m\u001b[0;34m\u001b[0m\u001b[0m\n\u001b[1;32m     29\u001b[0m                     \u001b[0;31m# optional to specify a value in ns\u001b[0m\u001b[0;34m\u001b[0m\u001b[0;34m\u001b[0m\u001b[0m\n",
      "\u001b[0;31mKeyError\u001b[0m: 'globalvariable2'"
     ]
    }
   ],
   "source": [
    "test2()"
   ]
  },
  {
   "cell_type": "code",
   "execution_count": 140,
   "metadata": {
    "ExecuteTime": {
     "end_time": "2017-11-07T00:10:20.786188Z",
     "start_time": "2017-11-07T00:10:20.764962Z"
    },
    "collapsed": true
   },
   "outputs": [],
   "source": [
    "import IPython.display"
   ]
  },
  {
   "cell_type": "code",
   "execution_count": 141,
   "metadata": {
    "ExecuteTime": {
     "end_time": "2017-11-07T00:10:31.079302Z",
     "start_time": "2017-11-07T00:10:31.062414Z"
    },
    "collapsed": true
   },
   "outputs": [],
   "source": [
    "IPython.display.Javascript?"
   ]
  },
  {
   "cell_type": "code",
   "execution_count": null,
   "metadata": {
    "collapsed": true
   },
   "outputs": [],
   "source": [
    "var comm_manager=Jupyter.notebook.kernel.comm_manager\n",
    "var handle_msg=function(msg){\n",
    "    console.log('got msg'); \n",
    "    console.log(msg)\n",
    "}\n",
    "\n",
    "comm_manager.register_target('myTarget', function(comm,msg){\n",
    "    console.log('opened comm');\n",
    "    console.log(msg);\n",
    "    // register callback\n",
    "    comm.on_msg(handle_msg)\n",
    "})"
   ]
  },
  {
   "cell_type": "markdown",
   "metadata": {
    "collapsed": true
   },
   "source": [
    "# Test case for download"
   ]
  },
  {
   "cell_type": "markdown",
   "metadata": {},
   "source": [
    "- case 1: simplehttpserver, \n",
    "- case 2: jupyter content api\n",
    "- \n"
   ]
  }
 ],
 "metadata": {
  "kernelspec": {
   "display_name": "Python 3",
   "language": "python",
   "name": "python3"
  },
  "language_info": {
   "codemirror_mode": {
    "name": "ipython",
    "version": 3
   },
   "file_extension": ".py",
   "mimetype": "text/x-python",
   "name": "python",
   "nbconvert_exporter": "python",
   "pygments_lexer": "ipython3",
   "version": "3.6.2"
  },
  "toc": {
   "nav_menu": {},
   "number_sections": true,
   "sideBar": true,
   "skip_h1_title": false,
   "toc_cell": false,
   "toc_position": {},
   "toc_section_display": "block",
   "toc_window_display": false
  }
 },
 "nbformat": 4,
 "nbformat_minor": 2
}
