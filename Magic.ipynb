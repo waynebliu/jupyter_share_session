{
 "cells": [
  {
   "cell_type": "code",
   "execution_count": 14,
   "metadata": {
    "ExecuteTime": {
     "end_time": "2017-11-07T12:54:03.288020Z",
     "start_time": "2017-11-07T12:54:03.245794Z"
    }
   },
   "outputs": [
    {
     "data": {
      "text/plain": [
       "<module 'jupyter_share_session.decorator' from '/home/wayne/jupyter_share_session/jupyter_share_session/decorator.py'>"
      ]
     },
     "execution_count": 14,
     "metadata": {},
     "output_type": "execute_result"
    }
   ],
   "source": [
    "import importlib\n",
    "import jupyter_share_session.decorator\n",
    "importlib.reload(jupyter_share_session.decorator)"
   ]
  },
  {
   "cell_type": "code",
   "execution_count": 15,
   "metadata": {
    "ExecuteTime": {
     "end_time": "2017-11-07T12:54:03.480392Z",
     "start_time": "2017-11-07T12:54:03.463911Z"
    },
    "collapsed": true
   },
   "outputs": [],
   "source": [
    "from jupyter_share_session.decorator import defaultGlobalParams, NsDefaultOrVal, nsDefault"
   ]
  },
  {
   "cell_type": "code",
   "execution_count": 9,
   "metadata": {
    "ExecuteTime": {
     "end_time": "2017-11-07T12:51:43.753170Z",
     "start_time": "2017-11-07T12:51:43.736982Z"
    },
    "collapsed": true
   },
   "outputs": [],
   "source": [
    "globalvariable1 = 10"
   ]
  },
  {
   "cell_type": "code",
   "execution_count": 10,
   "metadata": {
    "ExecuteTime": {
     "end_time": "2017-11-07T12:51:44.095630Z",
     "start_time": "2017-11-07T12:51:44.080955Z"
    },
    "collapsed": true
   },
   "outputs": [],
   "source": [
    "globalvar3 = 'var3'"
   ]
  },
  {
   "cell_type": "code",
   "execution_count": 11,
   "metadata": {
    "ExecuteTime": {
     "end_time": "2017-11-07T12:52:52.232030Z",
     "start_time": "2017-11-07T12:52:52.216772Z"
    },
    "collapsed": true
   },
   "outputs": [],
   "source": [
    "@defaultGlobalParams()\n",
    "def test1(hello=NsDefaultOrVal(1),hello2=2,globalvariable1=nsDefault):\n",
    "    print(hello,hello2,globalvariable1)"
   ]
  },
  {
   "cell_type": "code",
   "execution_count": 12,
   "metadata": {
    "ExecuteTime": {
     "end_time": "2017-11-07T12:52:52.812858Z",
     "start_time": "2017-11-07T12:52:52.797974Z"
    }
   },
   "outputs": [
    {
     "name": "stdout",
     "output_type": "stream",
     "text": [
      "1 2 10\n"
     ]
    }
   ],
   "source": [
    "test1()"
   ]
  },
  {
   "cell_type": "code",
   "execution_count": 16,
   "metadata": {
    "ExecuteTime": {
     "end_time": "2017-11-07T12:54:06.106334Z",
     "start_time": "2017-11-07T12:54:06.082509Z"
    }
   },
   "outputs": [],
   "source": [
    "@defaultGlobalParams()\n",
    "def test2(hello=NsDefaultOrVal(1),hello2=2,globalvariable1=nsDefault,globalvariable2=NsDefaultOrVal(nsDefault,varName='globalVar3')):\n",
    "    print(hello,hello2,globalvariable1,globalvariable2)"
   ]
  },
  {
   "cell_type": "code",
   "execution_count": 17,
   "metadata": {
    "ExecuteTime": {
     "end_time": "2017-11-07T12:54:11.092201Z",
     "start_time": "2017-11-07T12:54:11.078075Z"
    }
   },
   "outputs": [
    {
     "name": "stdout",
     "output_type": "stream",
     "text": [
      "1 2 10 <jupyter_share_session.decorator.NsDefaultOrVal object at 0x7f005590a128>\n"
     ]
    }
   ],
   "source": [
    "test2()"
   ]
  },
  {
   "cell_type": "code",
   "execution_count": 18,
   "metadata": {
    "ExecuteTime": {
     "end_time": "2017-11-07T12:54:22.612080Z",
     "start_time": "2017-11-07T12:54:22.598098Z"
    },
    "collapsed": true
   },
   "outputs": [],
   "source": [
    "@defaultGlobalParams()\n",
    "def test3(hello=NsDefaultOrVal(1),hello2=2,globalvariable1=nsDefault,globalvariable2=nsDefault):\n",
    "    print(hello,hello2,globalvariable1,globalvariable2)"
   ]
  },
  {
   "cell_type": "code",
   "execution_count": 20,
   "metadata": {
    "ExecuteTime": {
     "end_time": "2017-11-07T12:54:35.745969Z",
     "start_time": "2017-11-07T12:54:35.720232Z"
    }
   },
   "outputs": [
    {
     "ename": "KeyError",
     "evalue": "'globalvariable2'",
     "output_type": "error",
     "traceback": [
      "\u001b[0;31m---------------------------------------------------------------------------\u001b[0m",
      "\u001b[0;31mKeyError\u001b[0m                                  Traceback (most recent call last)",
      "\u001b[0;32m<ipython-input-20-b866187ef947>\u001b[0m in \u001b[0;36m<module>\u001b[0;34m()\u001b[0m\n\u001b[0;32m----> 1\u001b[0;31m \u001b[0mtest3\u001b[0m\u001b[0;34m(\u001b[0m\u001b[0;34m)\u001b[0m\u001b[0;34m\u001b[0m\u001b[0m\n\u001b[0m",
      "\u001b[0;32m~/jupyter_share_session/jupyter_share_session/decorator.py\u001b[0m in \u001b[0;36mwrappedfunction\u001b[0;34m(*args, **kwargs)\u001b[0m\n\u001b[1;32m     31\u001b[0m                 \u001b[0;32mif\u001b[0m \u001b[0mreplace\u001b[0m \u001b[0;34m==\u001b[0m \u001b[0mMustDefineNsVal\u001b[0m\u001b[0;34m:\u001b[0m\u001b[0;34m\u001b[0m\u001b[0m\n\u001b[1;32m     32\u001b[0m                     \u001b[0;31m# must specify a value in ns\u001b[0m\u001b[0;34m\u001b[0m\u001b[0;34m\u001b[0m\u001b[0m\n\u001b[0;32m---> 33\u001b[0;31m                     \u001b[0mreplace\u001b[0m \u001b[0;34m=\u001b[0m \u001b[0mns\u001b[0m\u001b[0;34m[\u001b[0m\u001b[0mvarname\u001b[0m\u001b[0;34m]\u001b[0m\u001b[0;34m\u001b[0m\u001b[0m\n\u001b[0m\u001b[1;32m     34\u001b[0m                 \u001b[0;32melse\u001b[0m\u001b[0;34m:\u001b[0m\u001b[0;34m\u001b[0m\u001b[0m\n\u001b[1;32m     35\u001b[0m                     \u001b[0;31m# optional to specify a value in ns\u001b[0m\u001b[0;34m\u001b[0m\u001b[0;34m\u001b[0m\u001b[0m\n",
      "\u001b[0;31mKeyError\u001b[0m: 'globalvariable2'"
     ]
    }
   ],
   "source": [
    "test3()"
   ]
  },
  {
   "cell_type": "code",
   "execution_count": 140,
   "metadata": {
    "ExecuteTime": {
     "end_time": "2017-11-07T00:10:20.786188Z",
     "start_time": "2017-11-07T00:10:20.764962Z"
    },
    "collapsed": true
   },
   "outputs": [],
   "source": [
    "import IPython.display"
   ]
  },
  {
   "cell_type": "code",
   "execution_count": 141,
   "metadata": {
    "ExecuteTime": {
     "end_time": "2017-11-07T00:10:31.079302Z",
     "start_time": "2017-11-07T00:10:31.062414Z"
    },
    "collapsed": true
   },
   "outputs": [],
   "source": [
    "IPython.display.Javascript?"
   ]
  },
  {
   "cell_type": "code",
   "execution_count": null,
   "metadata": {
    "collapsed": true
   },
   "outputs": [],
   "source": [
    "var comm_manager=Jupyter.notebook.kernel.comm_manager\n",
    "var handle_msg=function(msg){\n",
    "    console.log('got msg'); \n",
    "    console.log(msg)\n",
    "}\n",
    "\n",
    "comm_manager.register_target('myTarget', function(comm,msg){\n",
    "    console.log('opened comm');\n",
    "    console.log(msg);\n",
    "    // register callback\n",
    "    comm.on_msg(handle_msg)\n",
    "})"
   ]
  },
  {
   "cell_type": "markdown",
   "metadata": {
    "collapsed": true
   },
   "source": [
    "# Test case for download"
   ]
  },
  {
   "cell_type": "markdown",
   "metadata": {},
   "source": [
    "- case 1: simplehttpserver, \n",
    "- case 2: jupyter content api\n",
    "- \n"
   ]
  }
 ],
 "metadata": {
  "kernelspec": {
   "display_name": "Python 3",
   "language": "python",
   "name": "python3"
  },
  "language_info": {
   "codemirror_mode": {
    "name": "ipython",
    "version": 3
   },
   "file_extension": ".py",
   "mimetype": "text/x-python",
   "name": "python",
   "nbconvert_exporter": "python",
   "pygments_lexer": "ipython3",
   "version": "3.6.2"
  },
  "toc": {
   "nav_menu": {},
   "number_sections": true,
   "sideBar": true,
   "skip_h1_title": false,
   "toc_cell": false,
   "toc_position": {},
   "toc_section_display": "block",
   "toc_window_display": false
  }
 },
 "nbformat": 4,
 "nbformat_minor": 2
}
