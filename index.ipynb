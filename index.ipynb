{
 "cells": [
  {
   "cell_type": "code",
   "execution_count": 5,
   "metadata": {
    "ExecuteTime": {
     "end_time": "2017-09-26T10:41:08.568796Z",
     "start_time": "2017-09-26T10:41:08.542395Z"
    }
   },
   "outputs": [
    {
     "data": {
      "application/javascript": [
       "element.append('<a href=\"file\">hello</a>')"
      ],
      "text/plain": [
       "<IPython.core.display.Javascript object>"
      ]
     },
     "metadata": {},
     "output_type": "display_data"
    }
   ],
   "source": [
    "%%javascript\n",
    "element.append('<a href=\"file\">hello</a>')\n"
   ]
  },
  {
   "cell_type": "markdown",
   "metadata": {},
   "source": [
    "In .local/share/jupyter/nbextensions/share_session/main.js:"
   ]
  },
  {
   "cell_type": "markdown",
   "metadata": {},
   "source": [
    "```\n",
    "require([\n",
    "    'jquery',\n",
    "    'base/js/utils',\n",
    "    'services/sessions/session'\n",
    "], function(\n",
    "    $,\n",
    "    utils,\n",
    "    session\n",
    "    ) {\n",
    "    \"use strict\";\n",
    "    var save_prototype_get_model = session.Session.prototype._get_model;\n",
    "    session.Session.prototype._get_model = function () {\n",
    "        var model = save_prototype_get_model.call(this);\n",
    "        model.path= utils.get_body_data(\"sessionPath\");\n",
    "        return model;\n",
    "    };\n",
    "})\n",
    "```\n"
   ]
  },
  {
   "cell_type": "markdown",
   "metadata": {},
   "source": [
    "In .jupyter/jupyter_nbconvert_config.json:"
   ]
  },
  {
   "cell_type": "markdown",
   "metadata": {},
   "source": [
    "    \"extra_template_paths\": [\n",
    "      \".\",\n",
    "      \"/home/wayne/jupyter_contrib_nbextensions_dev/src/jupyter_contrib_nbextensions/templates\"\n",
    "    ],\n",
    "\n"
   ]
  },
  {
   "cell_type": "markdown",
   "metadata": {},
   "source": [
    "In /home/wayne/jupyter_contrib_nbextensions_dev/src/jupyter_contrib_nbextensions/templates/sharesession.html:"
   ]
  },
  {
   "cell_type": "markdown",
   "metadata": {
    "ExecuteTime": {
     "start_time": "2017-09-26T10:57:05.412Z"
    }
   },
   "source": [
    "```\n",
    "{% extends \"notebook.html\" %}\n",
    "\n",
    "{% block stylesheet %} {{super()}} {% endblock %}\n",
    "\n",
    "{% block bodyclasses %}notebook_app {{super()}}{% endblock %}\n",
    "\n",
    "{% block params %} {{super()}} {% endblock %}\n",
    "\n",
    "{% block headercontainer %} {{super()}} {% endblock headercontainer %}\n",
    "\n",
    "{% block header %} {{super()}} {% endblock header %}\n",
    "\n",
    "{% block site %} {{super()}} {% endblock %}\n",
    "\n",
    "{% block after_site %} {{super()}} {% endblock %}\n",
    "\n",
    "{% block script %}\n",
    "\n",
    "<script src=\"/nbextensions/share_session/main.js\" type=\"text/javascript\" charset=\"utf-8\"></script>\n",
    "{{super()}}\n",
    "\n",
    "{% endblock %}\n",
    "```"
   ]
  },
  {
   "cell_type": "markdown",
   "metadata": {},
   "source": [
    "In `<pythonpath>`/sharesession.py:"
   ]
  },
  {
   "cell_type": "markdown",
   "metadata": {},
   "source": [
    "```\n",
    "import os\n",
    "from tornado import web\n",
    "HTTPError = web.HTTPError\n",
    "\n",
    "from notebook.base.handlers import (\n",
    "    IPythonHandler, FilesRedirectHandler, path_regex,\n",
    ")\n",
    "from notebook.utils import url_escape\n",
    "\n",
    "\n",
    "class ShareSessionHandler(IPythonHandler):\n",
    "    @web.authenticated\n",
    "    def get(self, path):\n",
    "        \"\"\"get renders the notebook template if a name is given, or \n",
    "        redirects to the '/files/' handler if the name is not given.\"\"\"\n",
    "        session_path = self.get_argument('sharesession',None)\n",
    "        if session_path is None:\n",
    "            session_path = path.rsplit('/', 1)[0]+'/index.ipynb'\n",
    "        path = path.strip('/')\n",
    "        cm = self.contents_manager\n",
    "        \n",
    "        # will raise 404 on not found\n",
    "        try:\n",
    "            model = cm.get(path, content=False)\n",
    "        except web.HTTPError as e:\n",
    "            if e.status_code == 404 and 'files' in path.split('/'):\n",
    "                # 404, but '/files/' in URL, let FilesRedirect take care of it\n",
    "                return FilesRedirectHandler.redirect_to_files(self, path)\n",
    "            else:\n",
    "                raise\n",
    "        if model['type'] != 'notebook':\n",
    "            # not a notebook, redirect to files\n",
    "            return FilesRedirectHandler.redirect_to_files(self, path)\n",
    "        name = path.rsplit('/', 1)[-1]\n",
    "        self.write(self.render_template('sharesession.html',\n",
    "            notebook_path=path,\n",
    "            session_path=session_path,\n",
    "            notebook_name=name,\n",
    "            kill_kernel=False,\n",
    "            mathjax_url=self.mathjax_url,\n",
    "            mathjax_config=self.mathjax_config\n",
    "            )\n",
    "        )\n",
    "\n",
    "\n",
    "from notebook.utils import url_path_join\n",
    "def load_jupyter_server_extension(nb_server_app):\n",
    "    \"\"\"\n",
    "    Called when the extension is loaded.\n",
    "\n",
    "    Args:\n",
    "        nb_server_app (NotebookWebApplication): handle to the Notebook webserver instance.\n",
    "    \"\"\"\n",
    "    web_app = nb_server_app.web_app\n",
    "    host_pattern = '.*$'\n",
    "    route_pattern = url_path_join(web_app.settings['base_url'], '/sharesession%s' % path_regex)\n",
    "    web_app.add_handlers(host_pattern, [(route_pattern, ShareSessionHandler)])\n",
    "\n",
    "```"
   ]
  }
 ],
 "metadata": {
  "kernelspec": {
   "display_name": "Python 3",
   "language": "python",
   "name": "python3"
  },
  "language_info": {
   "codemirror_mode": {
    "name": "ipython",
    "version": 3
   },
   "file_extension": ".py",
   "mimetype": "text/x-python",
   "name": "python",
   "nbconvert_exporter": "python",
   "pygments_lexer": "ipython3",
   "version": "3.6.2"
  },
  "toc": {
   "colors": {
    "hover_highlight": "#DAA520",
    "navigate_num": "#000000",
    "navigate_text": "#333333",
    "running_highlight": "#FF0000",
    "selected_highlight": "#FFD700",
    "sidebar_border": "#EEEEEE",
    "wrapper_background": "#FFFFFF"
   },
   "moveMenuLeft": true,
   "nav_menu": {
    "height": "12px",
    "width": "252px"
   },
   "navigate_menu": true,
   "number_sections": true,
   "sideBar": true,
   "skip_h1_title": false,
   "threshold": 4,
   "toc_cell": false,
   "toc_section_display": "block",
   "toc_window_display": false,
   "widenNotebook": false
  }
 },
 "nbformat": 4,
 "nbformat_minor": 2
}
