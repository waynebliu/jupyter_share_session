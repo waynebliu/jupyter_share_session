{
 "cells": [
  {
   "cell_type": "markdown",
   "metadata": {},
   "source": [
    "# Use cases"
   ]
  },
  {
   "cell_type": "markdown",
   "metadata": {},
   "source": [
    "1. You want to split up your notebook into multiple files. Simply create a file \"index.ipynb\" in the directory where the files will be.\n",
    "    - When you open a file in this directory, it will share the same session (same running kernel) as all the others\n",
    "    - If the url path of the file you open is originally\n",
    "        \n",
    "            http://<hostname>:<port>/notebooks/<projectpath>/<file>.ipynb\n",
    "      then it will be changed to \n",
    "\n",
    "            http://<hostname>:<port>/notebooks/<projectpath>/index.ipynb=<projectpath>/<file>.ipynb\n",
    "\n",
    "2. You have some common files that you want to share among multiple projects (i.e. in multiple notebook directories).  You can open the common file using url path:\n",
    "\n",
    "            <projectpath>/index.ipynb=<commonutilpath>/<utilfile>.ipynb\n",
    "    - The utilfile.ipynb page will run in the same kernel.\n",
    "    - The simple way to make this url path is to use a relative path from within a Markdown cell in the index.ipynb. Use this Markdown link:\n",
    "    \n",
    "            [utilfile](../commonutildir/utilfile)\n",
    "\n",
    "3. You have a website full of documentation notebooks, and you want your readers to browse the documentation without first downloading all the documentation files.\n",
    "    - First, create index.pynb file, with `http://` links to the documentation notebooks on your website.  The format of the links will be:\n",
    "    \n",
    "            <basedocpath>/index.ipynb=http://<yourwebsite>/<docpath>/<docfile>.ipynb\n",
    "    - Then your users can choose to download the index.ipynb, and open it in their local jupyter.\n",
    "    - Alternatively, you can put your index.ipynb file on a hosted jupyter environment (such as [Binder](http://mybinder.org/)), and have your users open the link to index.ipynb running on that environment.\n"
   ]
  },
  {
   "cell_type": "markdown",
   "metadata": {},
   "source": [
    "# New behavior"
   ]
  },
  {
   "cell_type": "markdown",
   "metadata": {},
   "source": [
    "In any of the 3 use cases:\n",
    "- the window url for these notebooks will be \n",
    "\n",
    "            http://<host>:<port>/notebooks/<projectpath>/index.ipynb=<notebookurl>\n",
    "- all lrunning notebooks with the same `<projectpath>/index.ipynb=` will run within the same kernel\n",
    "- the window title for these notebooks will be \"projectdir:notebookname\"\n"
   ]
  },
  {
   "cell_type": "markdown",
   "metadata": {},
   "source": [
    "# Installation"
   ]
  },
  {
   "cell_type": "code",
   "execution_count": null,
   "metadata": {
    "collapsed": true
   },
   "outputs": [],
   "source": [
    "!pip install jupyter_share_session"
   ]
  },
  {
   "cell_type": "markdown",
   "metadata": {
    "ExecuteTime": {
     "end_time": "2017-10-01T01:24:02.147216Z",
     "start_time": "2017-10-01T01:24:01.991257Z"
    }
   },
   "source": [
    "Add the following line to `~/.jupyter/jupyter_notebook_config.json`:"
   ]
  },
  {
   "cell_type": "markdown",
   "metadata": {},
   "source": [
    "        {\n",
    "          \"NotebookApp\": {\n",
    "        ...\n",
    "            \"nbserver_extensions\": {\n",
    "        ...\n",
    "              \"jupyter_share_session\": true\n",
    "            }\n",
    "          }\n",
    "        }\n"
   ]
  },
  {
   "cell_type": "markdown",
   "metadata": {},
   "source": [
    "# Example notebooks"
   ]
  },
  {
   "cell_type": "markdown",
   "metadata": {
    "ExecuteTime": {
     "end_time": "2017-10-01T01:27:05.966454Z",
     "start_time": "2017-10-01T01:27:05.695256Z"
    }
   },
   "source": [
    "TBD"
   ]
  },
  {
   "cell_type": "markdown",
   "metadata": {},
   "source": [
    "# Issues"
   ]
  },
  {
   "cell_type": "markdown",
   "metadata": {},
   "source": [
    "1. Downloading urls may not be working completely.\n",
    "- The implementation is necessarily fragile and dependent on implementation details of Jupyter notebook.\n",
    "    - It would be better if this behavior was included in JupyterLab directly, or there would be cleaner hooks to implement this as an extension.\n",
    "- Integration with mybinder.org\n",
    "- Conda installation?\n",
    "- Integration with jupyter_contrib_extensions?"
   ]
  },
  {
   "cell_type": "markdown",
   "metadata": {
    "ExecuteTime": {
     "end_time": "2017-10-02T23:26:18.372970Z",
     "start_time": "2017-10-02T23:26:18.357716Z"
    },
    "collapsed": true
   },
   "source": [
    "# Commit"
   ]
  },
  {
   "cell_type": "code",
   "execution_count": 2,
   "metadata": {
    "ExecuteTime": {
     "end_time": "2017-10-02T23:27:48.741167Z",
     "start_time": "2017-10-02T23:27:45.271860Z"
    }
   },
   "outputs": [
    {
     "name": "stdout",
     "output_type": "stream",
     "text": [
      "[master e0b3b5c] update v0.2\n",
      " 1 file changed, 1 insertion(+), 1 deletion(-)\n",
      "Counting objects: 3, done.\n",
      "Delta compression using up to 2 threads.\n",
      "Compressing objects: 100% (3/3), done.\n",
      "Writing objects: 100% (3/3), 282 bytes | 0 bytes/s, done.\n",
      "Total 3 (delta 2), reused 0 (delta 0)\n",
      "remote: Resolving deltas: 100% (2/2), completed with 2 local objects.\u001b[K\n",
      "To https://github.com/waynebliu/jupyter_share_session.git\n",
      "   1259434..e0b3b5c  master -> master\n",
      "Branch master set up to track remote branch master from origin.\n"
     ]
    }
   ],
   "source": [
    "!git stage setup.py\n",
    "!git commit -m 'update v0.2'\n",
    "!git push -u origin master"
   ]
  },
  {
   "cell_type": "markdown",
   "metadata": {},
   "source": [
    "# Release"
   ]
  },
  {
   "cell_type": "code",
   "execution_count": 3,
   "metadata": {
    "ExecuteTime": {
     "end_time": "2017-10-02T23:27:56.576207Z",
     "start_time": "2017-10-02T23:27:53.074349Z"
    }
   },
   "outputs": [
    {
     "name": "stdout",
     "output_type": "stream",
     "text": [
      "running sdist\n",
      "running egg_info\n",
      "writing jupyter_share_session.egg-info/PKG-INFO\n",
      "writing dependency_links to jupyter_share_session.egg-info/dependency_links.txt\n",
      "writing top-level names to jupyter_share_session.egg-info/top_level.txt\n",
      "reading manifest file 'jupyter_share_session.egg-info/SOURCES.txt'\n",
      "reading manifest template 'MANIFEST.in'\n",
      "writing manifest file 'jupyter_share_session.egg-info/SOURCES.txt'\n",
      "warning: sdist: standard file not found: should have one of README, README.rst, README.txt\n",
      "\n",
      "running check\n",
      "creating jupyter_share_session-0.2\n",
      "creating jupyter_share_session-0.2/jupyter_share_session\n",
      "creating jupyter_share_session-0.2/jupyter_share_session.egg-info\n",
      "copying files to jupyter_share_session-0.2...\n",
      "copying MANIFEST.in -> jupyter_share_session-0.2\n",
      "copying README.md -> jupyter_share_session-0.2\n",
      "copying setup.py -> jupyter_share_session-0.2\n",
      "copying jupyter_share_session/__init__.py -> jupyter_share_session-0.2/jupyter_share_session\n",
      "copying jupyter_share_session/sharesession.html -> jupyter_share_session-0.2/jupyter_share_session\n",
      "copying jupyter_share_session.egg-info/PKG-INFO -> jupyter_share_session-0.2/jupyter_share_session.egg-info\n",
      "copying jupyter_share_session.egg-info/SOURCES.txt -> jupyter_share_session-0.2/jupyter_share_session.egg-info\n",
      "copying jupyter_share_session.egg-info/dependency_links.txt -> jupyter_share_session-0.2/jupyter_share_session.egg-info\n",
      "copying jupyter_share_session.egg-info/not-zip-safe -> jupyter_share_session-0.2/jupyter_share_session.egg-info\n",
      "copying jupyter_share_session.egg-info/top_level.txt -> jupyter_share_session-0.2/jupyter_share_session.egg-info\n",
      "Writing jupyter_share_session-0.2/setup.cfg\n",
      "Creating tar archive\n",
      "removing 'jupyter_share_session-0.2' (and everything under it)\n",
      "running upload\n",
      "Submitting dist/jupyter_share_session-0.2.tar.gz to https://upload.pypi.org/legacy/\n",
      "Server response (200): OK\n"
     ]
    }
   ],
   "source": [
    "!python setup.py sdist upload"
   ]
  }
 ],
 "metadata": {
  "kernelspec": {
   "display_name": "Python 3",
   "language": "python",
   "name": "python3"
  },
  "language_info": {
   "codemirror_mode": {
    "name": "ipython",
    "version": 3
   },
   "file_extension": ".py",
   "mimetype": "text/x-python",
   "name": "python",
   "nbconvert_exporter": "python",
   "pygments_lexer": "ipython3",
   "version": "3.6.2"
  }
 },
 "nbformat": 4,
 "nbformat_minor": 2
}
