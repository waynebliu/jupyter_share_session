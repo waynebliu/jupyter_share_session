{
 "cells": [
  {
   "cell_type": "markdown",
   "metadata": {},
   "source": [
    "# Use cases"
   ]
  },
  {
   "cell_type": "markdown",
   "metadata": {},
   "source": [
    "1. You want to split up your notebook into multiple files. \n",
    "    - Simply create a file \"index.ipynb\" in the directory where the files will be.\n",
    "    - When you open a file in this directory, it will share the same session (same running kernel) as all the others\n",
    "    - Note if the url path of the file you open is originally\n",
    "\n",
    "            http://<hostname>:<port>/notebooks/<projectpath>/<file>.ipynb\n",
    "      then brower address bar will be changed to \n",
    "\n",
    "            http://<hostname>:<port>/notebooks/<projectpath>/index.ipynb=<projectpath>/<file>.ipynb\n",
    "      and the browser window will title change to \"`<projectdir>:<file>`\"\n",
    "\n",
    "2. You have some common files that you want to share among multiple projects (i.e. in multiple notebook directories).\n",
    "    - You can open the common file using url path:\n",
    "\n",
    "            <projectpath>/index.ipynb=<commonutilpath>/<utilfile>.ipynb\n",
    "    - The utilfile.ipynb page will run in the same kernel.\n",
    "    - The simple way to make this url path is to use a relative path from within a Markdown cell in the index.ipynb. Use this Markdown link:\n",
    "    \n",
    "            [utilfile](../commonutildir/utilfile)\n",
    "\n",
    "3. You have a website full of documentation notebooks, and you want your readers to browse the documentation without first downloading all the documentation files.\n",
    "    - First, create index.pynb file, with `http://` links to the documentation notebooks on your website.  The format of the links will be:\n",
    "    \n",
    "            <basedocpath>/index.ipynb=http://<yourwebsite>/<docpath>/<docfile>.ipynb\n",
    "    - Then your users can choose to download the index.ipynb, and open it in their local jupyter.\n",
    "    - Alternatively, you can put your index.ipynb file on a hosted jupyter environment (such as [Binder](http://mybinder.org/)), and have your users open the link to index.ipynb running on that environment.\n"
   ]
  },
  {
   "cell_type": "markdown",
   "metadata": {},
   "source": [
    "# New behavior"
   ]
  },
  {
   "cell_type": "markdown",
   "metadata": {},
   "source": [
    "In any of the 3 use cases:\n",
    "- the window url for these notebooks will be \n",
    "\n",
    "            http://<host>:<port>/notebooks/<projectpath>/index.ipynb=<notebookurl>\n",
    "- all lrunning notebooks with the same `<projectpath>/index.ipynb=` will run within the same kernel\n",
    "- the window title for these notebooks will be \"projectdir:notebookname\"\n"
   ]
  },
  {
   "cell_type": "markdown",
   "metadata": {},
   "source": [
    "# Installation"
   ]
  },
  {
   "cell_type": "code",
   "execution_count": null,
   "metadata": {
    "collapsed": true
   },
   "outputs": [],
   "source": [
    "!pip install jupyter_share_session"
   ]
  },
  {
   "cell_type": "markdown",
   "metadata": {
    "ExecuteTime": {
     "end_time": "2017-10-01T01:24:02.147216Z",
     "start_time": "2017-10-01T01:24:01.991257Z"
    }
   },
   "source": [
    "Add the following line to `~/.jupyter/jupyter_notebook_config.json`:"
   ]
  },
  {
   "cell_type": "markdown",
   "metadata": {},
   "source": [
    "        {\n",
    "          \"NotebookApp\": {\n",
    "        ...\n",
    "            \"nbserver_extensions\": {\n",
    "        ...\n",
    "              \"jupyter_share_session\": true\n",
    "            }\n",
    "          }\n",
    "        }\n"
   ]
  },
  {
   "cell_type": "markdown",
   "metadata": {},
   "source": [
    "# Example notebooks"
   ]
  },
  {
   "cell_type": "markdown",
   "metadata": {
    "ExecuteTime": {
     "end_time": "2017-10-01T01:27:05.966454Z",
     "start_time": "2017-10-01T01:27:05.695256Z"
    }
   },
   "source": [
    "TBD"
   ]
  },
  {
   "cell_type": "markdown",
   "metadata": {},
   "source": [
    "# Issues"
   ]
  },
  {
   "cell_type": "markdown",
   "metadata": {},
   "source": [
    "1. The implementation is necessarily fragile and dependent on implementation details of Jupyter notebook.\n",
    "    - It would be better if this behavior was included in JupyterLab directly, or there would be cleaner hooks to implement this as an extension.\n",
    "- Integration with mybinder.org\n",
    "- Conda installation?\n",
    "- Integration with jupyter_contrib_extensions?\n",
    "- Integration with jupyter_cms?"
   ]
  }
 ],
 "metadata": {
  "kernelspec": {
   "display_name": "Python 3",
   "language": "python",
   "name": "python3"
  },
  "language_info": {
   "codemirror_mode": {
    "name": "ipython",
    "version": 3
   },
   "file_extension": ".py",
   "mimetype": "text/x-python",
   "name": "python",
   "nbconvert_exporter": "python",
   "pygments_lexer": "ipython3",
   "version": "3.6.2"
  },
  "toc": {
   "colors": {
    "hover_highlight": "#DAA520",
    "navigate_num": "#000000",
    "navigate_text": "#333333",
    "running_highlight": "#FF0000",
    "selected_highlight": "#FFD700",
    "sidebar_border": "#EEEEEE",
    "wrapper_background": "#FFFFFF"
   },
   "moveMenuLeft": true,
   "nav_menu": {
    "height": "103px",
    "width": "252px"
   },
   "navigate_menu": true,
   "number_sections": true,
   "sideBar": true,
   "skip_h1_title": false,
   "threshold": 4,
   "toc_cell": false,
   "toc_section_display": "block",
   "toc_window_display": false,
   "widenNotebook": false
  }
 },
 "nbformat": 4,
 "nbformat_minor": 2
}
